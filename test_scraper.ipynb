{
 "cells": [
  {
   "cell_type": "code",
   "execution_count": 1,
   "metadata": {},
   "outputs": [
    {
     "name": "stdout",
     "output_type": "stream",
     "text": [
      "No weights provided\n",
      "./Exports/TeamExport_A46051_Alpha_M_Period 3.xlsx loaded\n",
      "./Exports/TeamExport_A46051_Alpha_M_Period 3.xlsx loaded\n",
      "./Exports/TeamExport_A46051_Alpha_M_Period 3.xlsx loaded\n",
      "---------- Logged In ----------\n"
     ]
    },
    {
     "ename": "TimeoutException",
     "evalue": "Message: \nStacktrace:\n\tGetHandleVerifier [0x00AC8D03+51395]\n\t(No symbol) [0x00A35F61]\n\t(No symbol) [0x008EE13A]\n\t(No symbol) [0x009262BB]\n\t(No symbol) [0x009263EB]\n\t(No symbol) [0x0095C162]\n\t(No symbol) [0x00943ED4]\n\t(No symbol) [0x0095A570]\n\t(No symbol) [0x00943C26]\n\t(No symbol) [0x0091C629]\n\t(No symbol) [0x0091D40D]\n\tGetHandleVerifier [0x00E468D3+3712147]\n\tGetHandleVerifier [0x00E85CBA+3971194]\n\tGetHandleVerifier [0x00E80FA8+3951464]\n\tGetHandleVerifier [0x00B79D09+776393]\n\t(No symbol) [0x00A41734]\n\t(No symbol) [0x00A3C618]\n\t(No symbol) [0x00A3C7C9]\n\t(No symbol) [0x00A2DDF0]\n\tBaseThreadInitThunk [0x75927BA9+25]\n\tRtlInitializeExceptionChain [0x775CC0CB+107]\n\tRtlClearBits [0x775CC04F+191]\n",
     "output_type": "error",
     "traceback": [
      "\u001b[1;31m---------------------------------------------------------------------------\u001b[0m",
      "\u001b[1;31mTimeoutException\u001b[0m                          Traceback (most recent call last)",
      "Cell \u001b[1;32mIn[1], line 16\u001b[0m\n\u001b[0;32m      9\u001b[0m \u001b[38;5;66;03m#df_seg_sem_fc = an.forecast_df(dataframe=son.df_segments_semantic, steps=2)\u001b[39;00m\n\u001b[0;32m     10\u001b[0m \u001b[38;5;66;03m#semantic_objective = df_seg_sem_fc[(df_seg_sem_fc[\"Segment\"]==\"Explorers\")*(df_seg_sem_fc[\"Period\"]==5)][[\"# Features\", \"Design Index\", \"Battery Life\", \"Display Size\", \"Proc. Power\", \"Price\"]].values\u001b[39;00m\n\u001b[0;32m     11\u001b[0m \n\u001b[0;32m     12\u001b[0m \u001b[38;5;66;03m#df_seg_mds_fc = an.forecast_df(dataframe=son.df_segments_mds, steps=2)\u001b[39;00m\n\u001b[0;32m     13\u001b[0m \u001b[38;5;66;03m#mds_objective = df_seg_mds_fc[(df_seg_mds_fc[\"Segment\"]==\"Explorers\")*(df_seg_mds_fc[\"Period\"]==5)][[\"Economy\", \"Performance\", \"Convenience\"]].values\u001b[39;00m\n\u001b[0;32m     15\u001b[0m scraper \u001b[38;5;241m=\u001b[39m Scraper(headless\u001b[38;5;241m=\u001b[39m\u001b[38;5;28;01mFalse\u001b[39;00m) \n\u001b[1;32m---> 16\u001b[0m \u001b[43mscraper\u001b[49m\u001b[38;5;241;43m.\u001b[39;49m\u001b[43m_access_regression_semantic\u001b[49m\u001b[43m(\u001b[49m\u001b[43m)\u001b[49m   \n\u001b[0;32m     17\u001b[0m \u001b[38;5;66;03m#res_mds = scraper.run_regression_mds(inputs_array=mds_objective, reg_type=\"Modify\", brand=\"MOVE\")       \u001b[39;00m\n\u001b[0;32m     18\u001b[0m \u001b[38;5;66;03m#scraper._back_to_home()\u001b[39;00m\n\u001b[0;32m     19\u001b[0m \u001b[38;5;66;03m#res_sem = scraper.run_regression_semantic(inputs_array=semantic_objective, reg_type=\"Modify\", brand=\"MOVE\")\u001b[39;00m\n",
      "File \u001b[1;32md:\\Uni\\Anno III\\UCSD\\112\\Markstrat\\Code\\Scraper.py:139\u001b[0m, in \u001b[0;36mScraper._access_regression_semantic\u001b[1;34m(self, reg_type, brand)\u001b[0m\n\u001b[0;32m    135\u001b[0m create_radio_button\u001b[38;5;241m.\u001b[39mclick() \n\u001b[0;32m    137\u001b[0m \u001b[38;5;28;01mif\u001b[39;00m reg_type \u001b[38;5;241m==\u001b[39m \u001b[38;5;124m\"\u001b[39m\u001b[38;5;124mCheckModified\u001b[39m\u001b[38;5;124m\"\u001b[39m \u001b[38;5;129;01mor\u001b[39;00m \u001b[38;5;124m\"\u001b[39m\u001b[38;5;124mModify\u001b[39m\u001b[38;5;124m\"\u001b[39m:\n\u001b[0;32m    138\u001b[0m     \u001b[38;5;66;03m# Wait for Dropdown\u001b[39;00m\n\u001b[1;32m--> 139\u001b[0m     dropdown \u001b[38;5;241m=\u001b[39m \u001b[43mWebDriverWait\u001b[49m\u001b[43m(\u001b[49m\u001b[38;5;28;43mself\u001b[39;49m\u001b[38;5;241;43m.\u001b[39;49m\u001b[43mdriver\u001b[49m\u001b[43m,\u001b[49m\u001b[43m \u001b[49m\u001b[38;5;241;43m10\u001b[39;49m\u001b[43m)\u001b[49m\u001b[38;5;241;43m.\u001b[39;49m\u001b[43muntil\u001b[49m\u001b[43m(\u001b[49m\n\u001b[0;32m    140\u001b[0m \u001b[43m        \u001b[49m\u001b[43mEC\u001b[49m\u001b[38;5;241;43m.\u001b[39;49m\u001b[43mvisibility_of_element_located\u001b[49m\u001b[43m(\u001b[49m\u001b[43m(\u001b[49m\u001b[43mBy\u001b[49m\u001b[38;5;241;43m.\u001b[39;49m\u001b[43mID\u001b[49m\u001b[43m,\u001b[49m\u001b[43m \u001b[49m\u001b[38;5;124;43m\"\u001b[39;49m\u001b[38;5;124;43mddlBrand\u001b[39;49m\u001b[38;5;124;43m\"\u001b[39;49m\u001b[43m)\u001b[49m\u001b[43m)\u001b[49m\n\u001b[0;32m    141\u001b[0m \u001b[43m    \u001b[49m\u001b[43m)\u001b[49m\n\u001b[0;32m    143\u001b[0m     \u001b[38;5;66;03m# Initialize the Select object\u001b[39;00m\n\u001b[0;32m    144\u001b[0m     select \u001b[38;5;241m=\u001b[39m Select(dropdown)\n",
      "File \u001b[1;32mc:\\Users\\feder\\AppData\\Local\\Programs\\Python\\Python311\\Lib\\site-packages\\selenium\\webdriver\\support\\wait.py:95\u001b[0m, in \u001b[0;36mWebDriverWait.until\u001b[1;34m(self, method, message)\u001b[0m\n\u001b[0;32m     93\u001b[0m     \u001b[38;5;28;01mif\u001b[39;00m time\u001b[38;5;241m.\u001b[39mmonotonic() \u001b[38;5;241m>\u001b[39m end_time:\n\u001b[0;32m     94\u001b[0m         \u001b[38;5;28;01mbreak\u001b[39;00m\n\u001b[1;32m---> 95\u001b[0m \u001b[38;5;28;01mraise\u001b[39;00m TimeoutException(message, screen, stacktrace)\n",
      "\u001b[1;31mTimeoutException\u001b[0m: Message: \nStacktrace:\n\tGetHandleVerifier [0x00AC8D03+51395]\n\t(No symbol) [0x00A35F61]\n\t(No symbol) [0x008EE13A]\n\t(No symbol) [0x009262BB]\n\t(No symbol) [0x009263EB]\n\t(No symbol) [0x0095C162]\n\t(No symbol) [0x00943ED4]\n\t(No symbol) [0x0095A570]\n\t(No symbol) [0x00943C26]\n\t(No symbol) [0x0091C629]\n\t(No symbol) [0x0091D40D]\n\tGetHandleVerifier [0x00E468D3+3712147]\n\tGetHandleVerifier [0x00E85CBA+3971194]\n\tGetHandleVerifier [0x00E80FA8+3951464]\n\tGetHandleVerifier [0x00B79D09+776393]\n\t(No symbol) [0x00A41734]\n\t(No symbol) [0x00A3C618]\n\t(No symbol) [0x00A3C7C9]\n\t(No symbol) [0x00A2DDF0]\n\tBaseThreadInitThunk [0x75927BA9+25]\n\tRtlInitializeExceptionChain [0x775CC0CB+107]\n\tRtlClearBits [0x775CC04F+191]\n"
     ]
    }
   ],
   "source": [
    "from Scraper import Scraper\n",
    "\n",
    "\n",
    "\n",
    "#df_seg_sem_fc = an.forecast_df(dataframe=son.df_segments_semantic, steps=2)\n",
    "#semantic_objective = df_seg_sem_fc[(df_seg_sem_fc[\"Segment\"]==\"Explorers\")*(df_seg_sem_fc[\"Period\"]==5)][[\"# Features\", \"Design Index\", \"Battery Life\", \"Display Size\", \"Proc. Power\", \"Price\"]].values\n",
    "\n",
    "#df_seg_mds_fc = an.forecast_df(dataframe=son.df_segments_mds, steps=2)\n",
    "#mds_objective = df_seg_mds_fc[(df_seg_mds_fc[\"Segment\"]==\"Explorers\")*(df_seg_mds_fc[\"Period\"]==5)][[\"Economy\", \"Performance\", \"Convenience\"]].values\n",
    "\n",
    "scraper = Scraper(headless=False) \n",
    "scraper._access_regression_semantic()   \n",
    "#res_mds = scraper.run_regression_mds(inputs_array=mds_objective, reg_type=\"Modify\", brand=\"MOVE\")       \n",
    "#scraper._back_to_home()\n",
    "#res_sem = scraper.run_regression_semantic(inputs_array=semantic_objective, reg_type=\"Modify\", brand=\"MOVE\")"
   ]
  },
  {
   "cell_type": "code",
   "execution_count": 1,
   "metadata": {},
   "outputs": [
    {
     "name": "stdout",
     "output_type": "stream",
     "text": [
      "./Exports/TeamExport_A46051_Alpha_M_Period 3.xlsx loaded\n"
     ]
    },
    {
     "data": {
      "text/html": [
       "<div>\n",
       "<style scoped>\n",
       "    .dataframe tbody tr th:only-of-type {\n",
       "        vertical-align: middle;\n",
       "    }\n",
       "\n",
       "    .dataframe tbody tr th {\n",
       "        vertical-align: top;\n",
       "    }\n",
       "\n",
       "    .dataframe thead th {\n",
       "        text-align: right;\n",
       "    }\n",
       "</style>\n",
       "<table border=\"1\" class=\"dataframe\">\n",
       "  <thead>\n",
       "    <tr style=\"text-align: right;\">\n",
       "      <th></th>\n",
       "      <th># Features</th>\n",
       "      <th>Design Index</th>\n",
       "      <th>Battery Life</th>\n",
       "      <th>Display Size</th>\n",
       "      <th>Proc. Power</th>\n",
       "      <th>Rec. retail price</th>\n",
       "      <th>Base Cost</th>\n",
       "    </tr>\n",
       "    <tr>\n",
       "      <th>MARKET : Sonites</th>\n",
       "      <th></th>\n",
       "      <th></th>\n",
       "      <th></th>\n",
       "      <th></th>\n",
       "      <th></th>\n",
       "      <th></th>\n",
       "      <th></th>\n",
       "    </tr>\n",
       "  </thead>\n",
       "  <tbody>\n",
       "    <tr>\n",
       "      <th>MOVE</th>\n",
       "      <td>13</td>\n",
       "      <td>6</td>\n",
       "      <td>82</td>\n",
       "      <td>31</td>\n",
       "      <td>83</td>\n",
       "      <td>350</td>\n",
       "      <td>158</td>\n",
       "    </tr>\n",
       "  </tbody>\n",
       "</table>\n",
       "</div>"
      ],
      "text/plain": [
       "                  # Features  Design Index  Battery Life  Display Size  \\\n",
       "MARKET : Sonites                                                         \n",
       "MOVE                      13             6            82            31   \n",
       "\n",
       "                  Proc. Power  Rec. retail price  Base Cost  \n",
       "MARKET : Sonites                                             \n",
       "MOVE                       83                350        158  "
      ]
     },
     "execution_count": 1,
     "metadata": {},
     "output_type": "execute_result"
    }
   ],
   "source": [
    "from Brands import Sonites\n",
    "\n",
    "son = Sonites()\n",
    "\n",
    "son.move_features"
   ]
  }
 ],
 "metadata": {
  "kernelspec": {
   "display_name": "Python 3",
   "language": "python",
   "name": "python3"
  },
  "language_info": {
   "codemirror_mode": {
    "name": "ipython",
    "version": 3
   },
   "file_extension": ".py",
   "mimetype": "text/x-python",
   "name": "python",
   "nbconvert_exporter": "python",
   "pygments_lexer": "ipython3",
   "version": "3.11.1"
  }
 },
 "nbformat": 4,
 "nbformat_minor": 2
}
