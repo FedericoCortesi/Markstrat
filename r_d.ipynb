{
 "cells": [
  {
   "cell_type": "markdown",
   "metadata": {},
   "source": [
    "# Move"
   ]
  },
  {
   "cell_type": "markdown",
   "metadata": {},
   "source": [
    "**Instantiate classes**"
   ]
  },
  {
   "cell_type": "code",
   "execution_count": null,
   "metadata": {},
   "outputs": [
    {
     "name": "stdout",
     "output_type": "stream",
     "text": [
      "No weights provided\n",
      "before\n",
      "./Exports/TeamExport_A46051_Alpha_M_Period 3.xlsx loaded\n",
      "after\n",
      "./Exports/TeamExport_A46051_Alpha_M_Period 3.xlsx loaded\n"
     ]
    }
   ],
   "source": [
    "from Utils import combined_error\n",
    "from Analyzer import Analyzer\n",
    "\n",
    "an = Analyzer()"
   ]
  },
  {
   "cell_type": "markdown",
   "metadata": {},
   "source": [
    "### Cheap Alternative"
   ]
  },
  {
   "cell_type": "code",
   "execution_count": null,
   "metadata": {},
   "outputs": [],
   "source": [
    "features = [14, 5, 65, 32, 90, 350]"
   ]
  },
  {
   "cell_type": "code",
   "execution_count": null,
   "metadata": {},
   "outputs": [],
   "source": []
  },
  {
   "cell_type": "code",
   "execution_count": null,
   "metadata": {},
   "outputs": [],
   "source": [
    "for price in np.linspace(350, 400, num=10):\n",
    "    print(f\"Price {price}\")\n",
    "    new_features = np.array([14, 5, 65, 32, 90, price])\n",
    "    res = combined_error(features=new_features, ideal_semantic=target_sem_move, ideal_mds=target_mds_move, semantic_weights=son.rel_importance_features, mds_weights=[1/3, 1/3,1/3], error_weights=[1,1], model=solver)\n",
    "    contr = an.compute_contribution(price=price, transfer_cost=170, distribution_list=[0.72, 0.11, 0.17])\n",
    "    print(f\"Contr: {contr}\")\n",
    "    print(f\"Combined_error: {res}\")\n",
    "    print()"
   ]
  }
 ],
 "metadata": {
  "kernelspec": {
   "display_name": "venv",
   "language": "python",
   "name": "python3"
  },
  "language_info": {
   "codemirror_mode": {
    "name": "ipython",
    "version": 3
   },
   "file_extension": ".py",
   "mimetype": "text/x-python",
   "name": "python",
   "nbconvert_exporter": "python",
   "pygments_lexer": "ipython3",
   "version": "3.11.1"
  }
 },
 "nbformat": 4,
 "nbformat_minor": 2
}
