{
 "cells": [
  {
   "cell_type": "markdown",
   "metadata": {},
   "source": [
    "# Analysis"
   ]
  },
  {
   "cell_type": "markdown",
   "metadata": {},
   "source": [
    "**Initializing**"
   ]
  },
  {
   "cell_type": "code",
   "execution_count": 38,
   "metadata": {},
   "outputs": [
    {
     "name": "stdout",
     "output_type": "stream",
     "text": [
      "Vodites\n",
      "./Exports/TeamExport_A46051_Alpha_M_Period 7.xlsx loaded\n",
      "No weights provided\n",
      "Vodites\n",
      "./Exports/TeamExport_A46051_Alpha_M_Period 7.xlsx loaded\n",
      "Attributes file:./Attributes/Vodites/attributes_Vodites_7.json\n"
     ]
    }
   ],
   "source": [
    "import pandas as pd\n",
    "import numpy as np\n",
    "import matplotlib.pyplot as plt\n",
    "import seaborn as sns\n",
    "import warnings\n",
    "warnings.simplefilter(action='ignore', category=pd.errors.SettingWithCopyWarning)\n",
    "\n",
    "from Brands import Brands\n",
    "from Analyzer import Analyzer\n",
    "from Solver import Solver\n",
    "\n",
    "# Set the aesthetic style of the plots\n",
    "sns.set(style=\"whitegrid\")\n",
    "\n",
    "#an = Analyzer(marketing_mix_segment_weights=move_mkt_weights, last_period=2)\n",
    "an = Analyzer(last_period=7, sector=\"Vodites\")\n",
    "\n",
    "brd = Brands(sector=\"Vodites\")\n",
    "\n",
    "solver = Solver(sector=\"Vodites\")\n"
   ]
  },
  {
   "cell_type": "markdown",
   "metadata": {},
   "source": [
    "**Percentage expenditure by segment for each product**"
   ]
  },
  {
   "cell_type": "code",
   "execution_count": 39,
   "metadata": {},
   "outputs": [
    {
     "data": {
      "text/html": [
       "<div>\n",
       "<style scoped>\n",
       "    .dataframe tbody tr th:only-of-type {\n",
       "        vertical-align: middle;\n",
       "    }\n",
       "\n",
       "    .dataframe tbody tr th {\n",
       "        vertical-align: top;\n",
       "    }\n",
       "\n",
       "    .dataframe thead th {\n",
       "        text-align: right;\n",
       "    }\n",
       "</style>\n",
       "<table border=\"1\" class=\"dataframe\">\n",
       "  <thead>\n",
       "    <tr style=\"text-align: right;\">\n",
       "      <th></th>\n",
       "      <th>Innovators</th>\n",
       "      <th>Early Adopters</th>\n",
       "      <th>Followers</th>\n",
       "    </tr>\n",
       "  </thead>\n",
       "  <tbody>\n",
       "    <tr>\n",
       "      <th>0</th>\n",
       "      <td>0.150000</td>\n",
       "      <td>0.482857</td>\n",
       "      <td>0.367143</td>\n",
       "    </tr>\n",
       "    <tr>\n",
       "      <th>1</th>\n",
       "      <td>0.216471</td>\n",
       "      <td>0.230588</td>\n",
       "      <td>0.552941</td>\n",
       "    </tr>\n",
       "    <tr>\n",
       "      <th>2</th>\n",
       "      <td>0.137931</td>\n",
       "      <td>0.137931</td>\n",
       "      <td>0.724138</td>\n",
       "    </tr>\n",
       "  </tbody>\n",
       "</table>\n",
       "</div>"
      ],
      "text/plain": [
       "   Innovators  Early Adopters  Followers\n",
       "0    0.150000        0.482857   0.367143\n",
       "1    0.216471        0.230588   0.552941\n",
       "2    0.137931        0.137931   0.724138"
      ]
     },
     "execution_count": 39,
     "metadata": {},
     "output_type": "execute_result"
    }
   ],
   "source": [
    "df_marketing_mixes = brd.get_marketing_mixes(capped=False)\n",
    "df_marketing_mixes\n"
   ]
  },
  {
   "cell_type": "markdown",
   "metadata": {},
   "source": [
    "## Semantic scales"
   ]
  },
  {
   "cell_type": "code",
   "execution_count": 40,
   "metadata": {},
   "outputs": [
    {
     "data": {
      "text/html": [
       "<div>\n",
       "<style scoped>\n",
       "    .dataframe tbody tr th:only-of-type {\n",
       "        vertical-align: middle;\n",
       "    }\n",
       "\n",
       "    .dataframe tbody tr th {\n",
       "        vertical-align: top;\n",
       "    }\n",
       "\n",
       "    .dataframe thead th {\n",
       "        text-align: right;\n",
       "    }\n",
       "</style>\n",
       "<table border=\"1\" class=\"dataframe\">\n",
       "  <thead>\n",
       "    <tr style=\"text-align: right;\">\n",
       "      <th></th>\n",
       "      <th>Resolution</th>\n",
       "      <th>Energy Efficiency</th>\n",
       "      <th>Carbon Footprint</th>\n",
       "      <th>Connectivity</th>\n",
       "      <th>No. of Apps</th>\n",
       "      <th>Price</th>\n",
       "    </tr>\n",
       "    <tr>\n",
       "      <th>Index</th>\n",
       "      <th></th>\n",
       "      <th></th>\n",
       "      <th></th>\n",
       "      <th></th>\n",
       "      <th></th>\n",
       "      <th></th>\n",
       "    </tr>\n",
       "  </thead>\n",
       "  <tbody>\n",
       "    <tr>\n",
       "      <th>Adopters_7</th>\n",
       "      <td>4.98</td>\n",
       "      <td>4.28</td>\n",
       "      <td>4.73</td>\n",
       "      <td>4.63</td>\n",
       "      <td>4.44</td>\n",
       "      <td>5.16</td>\n",
       "    </tr>\n",
       "    <tr>\n",
       "      <th>Followers_7</th>\n",
       "      <td>4.37</td>\n",
       "      <td>4.76</td>\n",
       "      <td>2.78</td>\n",
       "      <td>3.88</td>\n",
       "      <td>3.77</td>\n",
       "      <td>4.48</td>\n",
       "    </tr>\n",
       "    <tr>\n",
       "      <th>Innovators_7</th>\n",
       "      <td>5.38</td>\n",
       "      <td>3.7</td>\n",
       "      <td>4.07</td>\n",
       "      <td>5.23</td>\n",
       "      <td>3.87</td>\n",
       "      <td>5.5</td>\n",
       "    </tr>\n",
       "  </tbody>\n",
       "</table>\n",
       "</div>"
      ],
      "text/plain": [
       "             Resolution Energy Efficiency Carbon Footprint Connectivity  \\\n",
       "Index                                                                     \n",
       "Adopters_7         4.98              4.28             4.73         4.63   \n",
       "Followers_7        4.37              4.76             2.78         3.88   \n",
       "Innovators_7       5.38               3.7             4.07         5.23   \n",
       "\n",
       "             No. of Apps Price  \n",
       "Index                           \n",
       "Adopters_7          4.44  5.16  \n",
       "Followers_7         3.77  4.48  \n",
       "Innovators_7        3.87   5.5  "
      ]
     },
     "execution_count": 40,
     "metadata": {},
     "output_type": "execute_result"
    }
   ],
   "source": [
    "features_name = [\"Resolution\", \"Energy Efficiency\", \"Carbon Footprint\", \"Connectivity\", \"No. of Apps\", \"Price\"]\n",
    "df_seg_sem = brd.df_segments_semantic[:3][features_name]\n",
    "df_seg_sem\n"
   ]
  },
  {
   "cell_type": "code",
   "execution_count": 41,
   "metadata": {},
   "outputs": [
    {
     "data": {
      "text/html": [
       "<div>\n",
       "<style scoped>\n",
       "    .dataframe tbody tr th:only-of-type {\n",
       "        vertical-align: middle;\n",
       "    }\n",
       "\n",
       "    .dataframe tbody tr th {\n",
       "        vertical-align: top;\n",
       "    }\n",
       "\n",
       "    .dataframe thead th {\n",
       "        text-align: right;\n",
       "    }\n",
       "</style>\n",
       "<table border=\"1\" class=\"dataframe\">\n",
       "  <thead>\n",
       "    <tr style=\"text-align: right;\">\n",
       "      <th></th>\n",
       "      <th>Resolution</th>\n",
       "      <th>Energy Efficiency</th>\n",
       "      <th>Carbon Footprint</th>\n",
       "      <th>Connectivity</th>\n",
       "      <th>No. of Apps</th>\n",
       "      <th>Price</th>\n",
       "    </tr>\n",
       "    <tr>\n",
       "      <th>MARKET : Vodites</th>\n",
       "      <th></th>\n",
       "      <th></th>\n",
       "      <th></th>\n",
       "      <th></th>\n",
       "      <th></th>\n",
       "      <th></th>\n",
       "    </tr>\n",
       "  </thead>\n",
       "  <tbody>\n",
       "    <tr>\n",
       "      <th>MEOW</th>\n",
       "      <td>4.29</td>\n",
       "      <td>2.94</td>\n",
       "      <td>4.56</td>\n",
       "      <td>4.52</td>\n",
       "      <td>4.14</td>\n",
       "      <td>5.37</td>\n",
       "    </tr>\n",
       "    <tr>\n",
       "      <th>REEGO</th>\n",
       "      <td>5.24</td>\n",
       "      <td>2.81</td>\n",
       "      <td>4.41</td>\n",
       "      <td>4.86</td>\n",
       "      <td>3.64</td>\n",
       "      <td>5.33</td>\n",
       "    </tr>\n",
       "    <tr>\n",
       "      <th>TENOR</th>\n",
       "      <td>2.91</td>\n",
       "      <td>3.36</td>\n",
       "      <td>6.39</td>\n",
       "      <td>2.89</td>\n",
       "      <td>1.58</td>\n",
       "      <td>4.83</td>\n",
       "    </tr>\n",
       "  </tbody>\n",
       "</table>\n",
       "</div>"
      ],
      "text/plain": [
       "                  Resolution  Energy Efficiency  Carbon Footprint  \\\n",
       "MARKET : Vodites                                                    \n",
       "MEOW                    4.29               2.94              4.56   \n",
       "REEGO                   5.24               2.81              4.41   \n",
       "TENOR                   2.91               3.36              6.39   \n",
       "\n",
       "                  Connectivity  No. of Apps  Price  \n",
       "MARKET : Vodites                                    \n",
       "MEOW                      4.52         4.14   5.37  \n",
       "REEGO                     4.86         3.64   5.33  \n",
       "TENOR                     2.89         1.58   4.83  "
      ]
     },
     "execution_count": 41,
     "metadata": {},
     "output_type": "execute_result"
    }
   ],
   "source": [
    "brd.df_brands_semantic"
   ]
  },
  {
   "cell_type": "markdown",
   "metadata": {},
   "source": [
    "### Compute Distances between Segments and Products "
   ]
  },
  {
   "cell_type": "markdown",
   "metadata": {},
   "source": [
    "#### Compute closest brands for each segment"
   ]
  },
  {
   "cell_type": "code",
   "execution_count": 42,
   "metadata": {},
   "outputs": [
    {
     "data": {
      "text/html": [
       "<div>\n",
       "<style scoped>\n",
       "    .dataframe tbody tr th:only-of-type {\n",
       "        vertical-align: middle;\n",
       "    }\n",
       "\n",
       "    .dataframe tbody tr th {\n",
       "        vertical-align: top;\n",
       "    }\n",
       "\n",
       "    .dataframe thead th {\n",
       "        text-align: right;\n",
       "    }\n",
       "</style>\n",
       "<table border=\"1\" class=\"dataframe\">\n",
       "  <thead>\n",
       "    <tr style=\"text-align: right;\">\n",
       "      <th></th>\n",
       "      <th>Resolution</th>\n",
       "      <th>Energy Efficiency</th>\n",
       "      <th>Carbon Footprint</th>\n",
       "      <th>Connectivity</th>\n",
       "      <th>No. of Apps</th>\n",
       "      <th>Price</th>\n",
       "    </tr>\n",
       "    <tr>\n",
       "      <th>MARKET : Vodites</th>\n",
       "      <th></th>\n",
       "      <th></th>\n",
       "      <th></th>\n",
       "      <th></th>\n",
       "      <th></th>\n",
       "      <th></th>\n",
       "    </tr>\n",
       "  </thead>\n",
       "  <tbody>\n",
       "    <tr>\n",
       "      <th>MEOW</th>\n",
       "      <td>4.29</td>\n",
       "      <td>2.94</td>\n",
       "      <td>4.56</td>\n",
       "      <td>4.52</td>\n",
       "      <td>4.14</td>\n",
       "      <td>5.37</td>\n",
       "    </tr>\n",
       "    <tr>\n",
       "      <th>REEGO</th>\n",
       "      <td>5.24</td>\n",
       "      <td>2.81</td>\n",
       "      <td>4.41</td>\n",
       "      <td>4.86</td>\n",
       "      <td>3.64</td>\n",
       "      <td>5.33</td>\n",
       "    </tr>\n",
       "    <tr>\n",
       "      <th>TENOR</th>\n",
       "      <td>2.91</td>\n",
       "      <td>3.36</td>\n",
       "      <td>6.39</td>\n",
       "      <td>2.89</td>\n",
       "      <td>1.58</td>\n",
       "      <td>4.83</td>\n",
       "    </tr>\n",
       "  </tbody>\n",
       "</table>\n",
       "</div>"
      ],
      "text/plain": [
       "                  Resolution  Energy Efficiency  Carbon Footprint  \\\n",
       "MARKET : Vodites                                                    \n",
       "MEOW                    4.29               2.94              4.56   \n",
       "REEGO                   5.24               2.81              4.41   \n",
       "TENOR                   2.91               3.36              6.39   \n",
       "\n",
       "                  Connectivity  No. of Apps  Price  \n",
       "MARKET : Vodites                                    \n",
       "MEOW                      4.52         4.14   5.37  \n",
       "REEGO                     4.86         3.64   5.33  \n",
       "TENOR                     2.89         1.58   4.83  "
      ]
     },
     "execution_count": 42,
     "metadata": {},
     "output_type": "execute_result"
    }
   ],
   "source": [
    "brd.df_brands_semantic"
   ]
  },
  {
   "cell_type": "code",
   "execution_count": 43,
   "metadata": {},
   "outputs": [
    {
     "name": "stdout",
     "output_type": "stream",
     "text": [
      "---------- Adopters_7 ----------\n",
      "Segment:\t MEOW\n",
      "Distance:\t 0.8992884384618579\n",
      "Segment:\t REEGO\n",
      "Distance:\t 0.8934623559118977\n",
      "Segment:\t TENOR\n",
      "Distance:\t 0.727070195646252\n",
      "\n",
      "---------- Followers_7 ----------\n",
      "Segment:\t MEOW\n",
      "Distance:\t 0.8331312499640449\n",
      "Segment:\t REEGO\n",
      "Distance:\t 0.8095888521415876\n",
      "Segment:\t TENOR\n",
      "Distance:\t 0.7507849578077158\n",
      "\n",
      "---------- Innovators_7 ----------\n",
      "Segment:\t REEGO\n",
      "Distance:\t 0.9299268006440846\n",
      "Segment:\t MEOW\n",
      "Distance:\t 0.886517003375502\n",
      "Segment:\t TENOR\n",
      "Distance:\t 0.6836656413372264\n",
      "\n"
     ]
    }
   ],
   "source": [
    "_ = an.get_n_closest(df_base=df_seg_sem, df_performers=brd.df_brands_semantic, num_top=3, max_distance_1D=6, distance_metric=3)"
   ]
  },
  {
   "cell_type": "markdown",
   "metadata": {},
   "source": [
    "#### Compute closest Segments for each Brand"
   ]
  },
  {
   "cell_type": "code",
   "execution_count": 44,
   "metadata": {},
   "outputs": [
    {
     "name": "stdout",
     "output_type": "stream",
     "text": [
      "---------- MEOW ----------\n",
      "Segment:\t Adopters_7\n",
      "Distance:\t 0.8992884384618579\n",
      "Segment:\t Innovators_7\n",
      "Distance:\t 0.886517003375502\n",
      "Segment:\t Followers_7\n",
      "Distance:\t 0.8331312499640449\n",
      "\n",
      "---------- REEGO ----------\n",
      "Segment:\t Innovators_7\n",
      "Distance:\t 0.9299268006440846\n",
      "Segment:\t Adopters_7\n",
      "Distance:\t 0.8934623559118977\n",
      "Segment:\t Followers_7\n",
      "Distance:\t 0.8095888521415876\n",
      "\n",
      "---------- TENOR ----------\n",
      "Segment:\t Followers_7\n",
      "Distance:\t 0.7507849578077158\n",
      "Segment:\t Adopters_7\n",
      "Distance:\t 0.727070195646252\n",
      "Segment:\t Innovators_7\n",
      "Distance:\t 0.6836656413372264\n",
      "\n"
     ]
    }
   ],
   "source": [
    "_ = an.get_n_closest(df_base=brd.df_brands_semantic, df_performers=df_seg_sem, max_distance_1D=6)"
   ]
  },
  {
   "cell_type": "markdown",
   "metadata": {},
   "source": [
    "#### Distances between all points"
   ]
  },
  {
   "cell_type": "code",
   "execution_count": 45,
   "metadata": {},
   "outputs": [
    {
     "data": {
      "text/html": [
       "<div>\n",
       "<style scoped>\n",
       "    .dataframe tbody tr th:only-of-type {\n",
       "        vertical-align: middle;\n",
       "    }\n",
       "\n",
       "    .dataframe tbody tr th {\n",
       "        vertical-align: top;\n",
       "    }\n",
       "\n",
       "    .dataframe thead th {\n",
       "        text-align: right;\n",
       "    }\n",
       "</style>\n",
       "<table border=\"1\" class=\"dataframe\">\n",
       "  <thead>\n",
       "    <tr style=\"text-align: right;\">\n",
       "      <th></th>\n",
       "      <th>MEOW</th>\n",
       "      <th>REEGO</th>\n",
       "      <th>TENOR</th>\n",
       "      <th>Adopters_7</th>\n",
       "      <th>Followers_7</th>\n",
       "      <th>Innovators_7</th>\n",
       "    </tr>\n",
       "  </thead>\n",
       "  <tbody>\n",
       "    <tr>\n",
       "      <th>MEOW</th>\n",
       "      <td>1.0</td>\n",
       "      <td>0.922372</td>\n",
       "      <td>0.764245</td>\n",
       "      <td>0.899288</td>\n",
       "      <td>0.833131</td>\n",
       "      <td>0.886517</td>\n",
       "    </tr>\n",
       "    <tr>\n",
       "      <th>REEGO</th>\n",
       "      <td>0.922372</td>\n",
       "      <td>1.0</td>\n",
       "      <td>0.720415</td>\n",
       "      <td>0.893462</td>\n",
       "      <td>0.809589</td>\n",
       "      <td>0.929927</td>\n",
       "    </tr>\n",
       "    <tr>\n",
       "      <th>TENOR</th>\n",
       "      <td>0.764245</td>\n",
       "      <td>0.720415</td>\n",
       "      <td>1.0</td>\n",
       "      <td>0.72707</td>\n",
       "      <td>0.750785</td>\n",
       "      <td>0.683666</td>\n",
       "    </tr>\n",
       "    <tr>\n",
       "      <th>Adopters_7</th>\n",
       "      <td>0.899288</td>\n",
       "      <td>0.893462</td>\n",
       "      <td>0.72707</td>\n",
       "      <td>1.0</td>\n",
       "      <td>0.864839</td>\n",
       "      <td>0.914012</td>\n",
       "    </tr>\n",
       "    <tr>\n",
       "      <th>Followers_7</th>\n",
       "      <td>0.833131</td>\n",
       "      <td>0.809589</td>\n",
       "      <td>0.750785</td>\n",
       "      <td>0.864839</td>\n",
       "      <td>1.0</td>\n",
       "      <td>0.815283</td>\n",
       "    </tr>\n",
       "    <tr>\n",
       "      <th>Innovators_7</th>\n",
       "      <td>0.886517</td>\n",
       "      <td>0.929927</td>\n",
       "      <td>0.683666</td>\n",
       "      <td>0.914012</td>\n",
       "      <td>0.815283</td>\n",
       "      <td>1.0</td>\n",
       "    </tr>\n",
       "  </tbody>\n",
       "</table>\n",
       "</div>"
      ],
      "text/plain": [
       "                  MEOW     REEGO     TENOR Adopters_7 Followers_7 Innovators_7\n",
       "MEOW               1.0  0.922372  0.764245   0.899288    0.833131     0.886517\n",
       "REEGO         0.922372       1.0  0.720415   0.893462    0.809589     0.929927\n",
       "TENOR         0.764245  0.720415       1.0    0.72707    0.750785     0.683666\n",
       "Adopters_7    0.899288  0.893462   0.72707        1.0    0.864839     0.914012\n",
       "Followers_7   0.833131  0.809589  0.750785   0.864839         1.0     0.815283\n",
       "Innovators_7  0.886517  0.929927  0.683666   0.914012    0.815283          1.0"
      ]
     },
     "execution_count": 45,
     "metadata": {},
     "output_type": "execute_result"
    }
   ],
   "source": [
    "df_all_sem = brd.get_comprehensive_df_semantic()\n",
    "index = df_all_sem.index \n",
    "\n",
    "distances = an.compute_distance_centroids(df_all_sem, df_all_sem, max_distance_1D=6)[3]\n",
    "\n",
    "\n",
    "df_out_sem = pd.DataFrame(columns=index, index=index)\n",
    "\n",
    "for i, start in enumerate(index):\n",
    "    index_to_search = index[i:]\n",
    "    for stop in index_to_search:\n",
    "        df_out_sem.loc[start, stop] = distances[start][stop]\n",
    "        df_out_sem.loc[stop, start] = distances[start][stop]\n",
    "\n",
    "df_out_sem"
   ]
  },
  {
   "cell_type": "markdown",
   "metadata": {},
   "source": [
    "## Multi Dimensional Scaling"
   ]
  },
  {
   "cell_type": "code",
   "execution_count": 46,
   "metadata": {},
   "outputs": [
    {
     "data": {
      "text/html": [
       "<div>\n",
       "<style scoped>\n",
       "    .dataframe tbody tr th:only-of-type {\n",
       "        vertical-align: middle;\n",
       "    }\n",
       "\n",
       "    .dataframe tbody tr th {\n",
       "        vertical-align: top;\n",
       "    }\n",
       "\n",
       "    .dataframe thead th {\n",
       "        text-align: right;\n",
       "    }\n",
       "</style>\n",
       "<table border=\"1\" class=\"dataframe\">\n",
       "  <thead>\n",
       "    <tr style=\"text-align: right;\">\n",
       "      <th></th>\n",
       "      <th>Segment</th>\n",
       "      <th>Period</th>\n",
       "      <th>Autonomy</th>\n",
       "      <th>Sophistication</th>\n",
       "      <th>Economy</th>\n",
       "    </tr>\n",
       "    <tr>\n",
       "      <th>Index</th>\n",
       "      <th></th>\n",
       "      <th></th>\n",
       "      <th></th>\n",
       "      <th></th>\n",
       "      <th></th>\n",
       "    </tr>\n",
       "  </thead>\n",
       "  <tbody>\n",
       "    <tr>\n",
       "      <th>Adopters_7</th>\n",
       "      <td>Adopters</td>\n",
       "      <td>7</td>\n",
       "      <td>3.52</td>\n",
       "      <td>3.94</td>\n",
       "      <td>-7.76</td>\n",
       "    </tr>\n",
       "    <tr>\n",
       "      <th>Followers_7</th>\n",
       "      <td>Followers</td>\n",
       "      <td>7</td>\n",
       "      <td>0.96</td>\n",
       "      <td>2.32</td>\n",
       "      <td>-3.2</td>\n",
       "    </tr>\n",
       "    <tr>\n",
       "      <th>Innovators_7</th>\n",
       "      <td>Innovators</td>\n",
       "      <td>7</td>\n",
       "      <td>5.16</td>\n",
       "      <td>5.24</td>\n",
       "      <td>-9.98</td>\n",
       "    </tr>\n",
       "    <tr>\n",
       "      <th>Early Adopters_6</th>\n",
       "      <td>Adopters</td>\n",
       "      <td>6</td>\n",
       "      <td>2.62</td>\n",
       "      <td>3.46</td>\n",
       "      <td>-8.38</td>\n",
       "    </tr>\n",
       "    <tr>\n",
       "      <th>Followers_6</th>\n",
       "      <td>Followers</td>\n",
       "      <td>6</td>\n",
       "      <td>0.38</td>\n",
       "      <td>1</td>\n",
       "      <td>-3.56</td>\n",
       "    </tr>\n",
       "    <tr>\n",
       "      <th>Innovators_6</th>\n",
       "      <td>Innovators</td>\n",
       "      <td>6</td>\n",
       "      <td>4.44</td>\n",
       "      <td>4.8</td>\n",
       "      <td>-12.24</td>\n",
       "    </tr>\n",
       "    <tr>\n",
       "      <th>Early Adopters_5</th>\n",
       "      <td>Adopters</td>\n",
       "      <td>5</td>\n",
       "      <td>1.46</td>\n",
       "      <td>2.76</td>\n",
       "      <td>-8.82</td>\n",
       "    </tr>\n",
       "    <tr>\n",
       "      <th>Followers_5</th>\n",
       "      <td>Followers</td>\n",
       "      <td>5</td>\n",
       "      <td>-0.16</td>\n",
       "      <td>-0.5</td>\n",
       "      <td>-3.92</td>\n",
       "    </tr>\n",
       "    <tr>\n",
       "      <th>Innovators_5</th>\n",
       "      <td>Innovators</td>\n",
       "      <td>5</td>\n",
       "      <td>3.72</td>\n",
       "      <td>4.36</td>\n",
       "      <td>-13.7</td>\n",
       "    </tr>\n",
       "    <tr>\n",
       "      <th>Early Adopters_4</th>\n",
       "      <td>Adopters</td>\n",
       "      <td>4</td>\n",
       "      <td>-0.02</td>\n",
       "      <td>1.86</td>\n",
       "      <td>-9.56</td>\n",
       "    </tr>\n",
       "    <tr>\n",
       "      <th>Followers_4</th>\n",
       "      <td>Followers</td>\n",
       "      <td>4</td>\n",
       "      <td>-2.24</td>\n",
       "      <td>-2.64</td>\n",
       "      <td>-4.64</td>\n",
       "    </tr>\n",
       "    <tr>\n",
       "      <th>Innovators_4</th>\n",
       "      <td>Innovators</td>\n",
       "      <td>4</td>\n",
       "      <td>3</td>\n",
       "      <td>3.84</td>\n",
       "      <td>-14.36</td>\n",
       "    </tr>\n",
       "    <tr>\n",
       "      <th>Early Adopters_3</th>\n",
       "      <td>Adopters</td>\n",
       "      <td>3</td>\n",
       "      <td>-0.7</td>\n",
       "      <td>1.4</td>\n",
       "      <td>-10</td>\n",
       "    </tr>\n",
       "    <tr>\n",
       "      <th>Followers_3</th>\n",
       "      <td>Followers</td>\n",
       "      <td>3</td>\n",
       "      <td>-3.3</td>\n",
       "      <td>-3.64</td>\n",
       "      <td>-5</td>\n",
       "    </tr>\n",
       "    <tr>\n",
       "      <th>Innovators_3</th>\n",
       "      <td>Innovators</td>\n",
       "      <td>3</td>\n",
       "      <td>2</td>\n",
       "      <td>3.4</td>\n",
       "      <td>-15</td>\n",
       "    </tr>\n",
       "  </tbody>\n",
       "</table>\n",
       "</div>"
      ],
      "text/plain": [
       "                     Segment Period Autonomy Sophistication Economy\n",
       "Index                                                              \n",
       "Adopters_7          Adopters      7     3.52           3.94   -7.76\n",
       "Followers_7        Followers      7     0.96           2.32    -3.2\n",
       "Innovators_7      Innovators      7     5.16           5.24   -9.98\n",
       "Early Adopters_6    Adopters      6     2.62           3.46   -8.38\n",
       "Followers_6        Followers      6     0.38              1   -3.56\n",
       "Innovators_6      Innovators      6     4.44            4.8  -12.24\n",
       "Early Adopters_5    Adopters      5     1.46           2.76   -8.82\n",
       "Followers_5        Followers      5    -0.16           -0.5   -3.92\n",
       "Innovators_5      Innovators      5     3.72           4.36   -13.7\n",
       "Early Adopters_4    Adopters      4    -0.02           1.86   -9.56\n",
       "Followers_4        Followers      4    -2.24          -2.64   -4.64\n",
       "Innovators_4      Innovators      4        3           3.84  -14.36\n",
       "Early Adopters_3    Adopters      3     -0.7            1.4     -10\n",
       "Followers_3        Followers      3     -3.3          -3.64      -5\n",
       "Innovators_3      Innovators      3        2            3.4     -15"
      ]
     },
     "execution_count": 46,
     "metadata": {},
     "output_type": "execute_result"
    }
   ],
   "source": [
    "brd.df_segments_mds"
   ]
  },
  {
   "cell_type": "code",
   "execution_count": 47,
   "metadata": {},
   "outputs": [
    {
     "data": {
      "text/html": [
       "<div>\n",
       "<style scoped>\n",
       "    .dataframe tbody tr th:only-of-type {\n",
       "        vertical-align: middle;\n",
       "    }\n",
       "\n",
       "    .dataframe tbody tr th {\n",
       "        vertical-align: top;\n",
       "    }\n",
       "\n",
       "    .dataframe thead th {\n",
       "        text-align: right;\n",
       "    }\n",
       "</style>\n",
       "<table border=\"1\" class=\"dataframe\">\n",
       "  <thead>\n",
       "    <tr style=\"text-align: right;\">\n",
       "      <th></th>\n",
       "      <th>Autonomy</th>\n",
       "      <th>Sophistication</th>\n",
       "      <th>Economy</th>\n",
       "    </tr>\n",
       "    <tr>\n",
       "      <th>MARKET : Vodites</th>\n",
       "      <th></th>\n",
       "      <th></th>\n",
       "      <th></th>\n",
       "    </tr>\n",
       "  </thead>\n",
       "  <tbody>\n",
       "    <tr>\n",
       "      <th>MEOW</th>\n",
       "      <td>0.28</td>\n",
       "      <td>0.82</td>\n",
       "      <td>-9.14</td>\n",
       "    </tr>\n",
       "    <tr>\n",
       "      <th>REEGO</th>\n",
       "      <td>1.64</td>\n",
       "      <td>3.96</td>\n",
       "      <td>-8.88</td>\n",
       "    </tr>\n",
       "    <tr>\n",
       "      <th>TENOR</th>\n",
       "      <td>-6.48</td>\n",
       "      <td>-10.80</td>\n",
       "      <td>-5.56</td>\n",
       "    </tr>\n",
       "  </tbody>\n",
       "</table>\n",
       "</div>"
      ],
      "text/plain": [
       "                  Autonomy  Sophistication  Economy\n",
       "MARKET : Vodites                                   \n",
       "MEOW                  0.28            0.82    -9.14\n",
       "REEGO                 1.64            3.96    -8.88\n",
       "TENOR                -6.48          -10.80    -5.56"
      ]
     },
     "execution_count": 47,
     "metadata": {},
     "output_type": "execute_result"
    }
   ],
   "source": [
    "brd.df_brands_mds"
   ]
  },
  {
   "cell_type": "markdown",
   "metadata": {},
   "source": [
    "### Compute Distances between Segments and Products "
   ]
  },
  {
   "cell_type": "markdown",
   "metadata": {},
   "source": [
    "#### Compute closest brands for each segment"
   ]
  },
  {
   "cell_type": "code",
   "execution_count": 48,
   "metadata": {},
   "outputs": [
    {
     "data": {
      "text/html": [
       "<div>\n",
       "<style scoped>\n",
       "    .dataframe tbody tr th:only-of-type {\n",
       "        vertical-align: middle;\n",
       "    }\n",
       "\n",
       "    .dataframe tbody tr th {\n",
       "        vertical-align: top;\n",
       "    }\n",
       "\n",
       "    .dataframe thead th {\n",
       "        text-align: right;\n",
       "    }\n",
       "</style>\n",
       "<table border=\"1\" class=\"dataframe\">\n",
       "  <thead>\n",
       "    <tr style=\"text-align: right;\">\n",
       "      <th></th>\n",
       "      <th>Segment</th>\n",
       "      <th>Period</th>\n",
       "      <th>Autonomy</th>\n",
       "      <th>Sophistication</th>\n",
       "      <th>Economy</th>\n",
       "    </tr>\n",
       "    <tr>\n",
       "      <th>Index</th>\n",
       "      <th></th>\n",
       "      <th></th>\n",
       "      <th></th>\n",
       "      <th></th>\n",
       "      <th></th>\n",
       "    </tr>\n",
       "  </thead>\n",
       "  <tbody>\n",
       "    <tr>\n",
       "      <th>Adopters_7</th>\n",
       "      <td>Adopters</td>\n",
       "      <td>7</td>\n",
       "      <td>3.52</td>\n",
       "      <td>3.94</td>\n",
       "      <td>-7.76</td>\n",
       "    </tr>\n",
       "    <tr>\n",
       "      <th>Followers_7</th>\n",
       "      <td>Followers</td>\n",
       "      <td>7</td>\n",
       "      <td>0.96</td>\n",
       "      <td>2.32</td>\n",
       "      <td>-3.2</td>\n",
       "    </tr>\n",
       "    <tr>\n",
       "      <th>Innovators_7</th>\n",
       "      <td>Innovators</td>\n",
       "      <td>7</td>\n",
       "      <td>5.16</td>\n",
       "      <td>5.24</td>\n",
       "      <td>-9.98</td>\n",
       "    </tr>\n",
       "    <tr>\n",
       "      <th>Early Adopters_6</th>\n",
       "      <td>Adopters</td>\n",
       "      <td>6</td>\n",
       "      <td>2.62</td>\n",
       "      <td>3.46</td>\n",
       "      <td>-8.38</td>\n",
       "    </tr>\n",
       "    <tr>\n",
       "      <th>Followers_6</th>\n",
       "      <td>Followers</td>\n",
       "      <td>6</td>\n",
       "      <td>0.38</td>\n",
       "      <td>1</td>\n",
       "      <td>-3.56</td>\n",
       "    </tr>\n",
       "    <tr>\n",
       "      <th>Innovators_6</th>\n",
       "      <td>Innovators</td>\n",
       "      <td>6</td>\n",
       "      <td>4.44</td>\n",
       "      <td>4.8</td>\n",
       "      <td>-12.24</td>\n",
       "    </tr>\n",
       "    <tr>\n",
       "      <th>Early Adopters_5</th>\n",
       "      <td>Adopters</td>\n",
       "      <td>5</td>\n",
       "      <td>1.46</td>\n",
       "      <td>2.76</td>\n",
       "      <td>-8.82</td>\n",
       "    </tr>\n",
       "    <tr>\n",
       "      <th>Followers_5</th>\n",
       "      <td>Followers</td>\n",
       "      <td>5</td>\n",
       "      <td>-0.16</td>\n",
       "      <td>-0.5</td>\n",
       "      <td>-3.92</td>\n",
       "    </tr>\n",
       "    <tr>\n",
       "      <th>Innovators_5</th>\n",
       "      <td>Innovators</td>\n",
       "      <td>5</td>\n",
       "      <td>3.72</td>\n",
       "      <td>4.36</td>\n",
       "      <td>-13.7</td>\n",
       "    </tr>\n",
       "    <tr>\n",
       "      <th>Early Adopters_4</th>\n",
       "      <td>Adopters</td>\n",
       "      <td>4</td>\n",
       "      <td>-0.02</td>\n",
       "      <td>1.86</td>\n",
       "      <td>-9.56</td>\n",
       "    </tr>\n",
       "    <tr>\n",
       "      <th>Followers_4</th>\n",
       "      <td>Followers</td>\n",
       "      <td>4</td>\n",
       "      <td>-2.24</td>\n",
       "      <td>-2.64</td>\n",
       "      <td>-4.64</td>\n",
       "    </tr>\n",
       "    <tr>\n",
       "      <th>Innovators_4</th>\n",
       "      <td>Innovators</td>\n",
       "      <td>4</td>\n",
       "      <td>3</td>\n",
       "      <td>3.84</td>\n",
       "      <td>-14.36</td>\n",
       "    </tr>\n",
       "    <tr>\n",
       "      <th>Early Adopters_3</th>\n",
       "      <td>Adopters</td>\n",
       "      <td>3</td>\n",
       "      <td>-0.7</td>\n",
       "      <td>1.4</td>\n",
       "      <td>-10</td>\n",
       "    </tr>\n",
       "    <tr>\n",
       "      <th>Followers_3</th>\n",
       "      <td>Followers</td>\n",
       "      <td>3</td>\n",
       "      <td>-3.3</td>\n",
       "      <td>-3.64</td>\n",
       "      <td>-5</td>\n",
       "    </tr>\n",
       "    <tr>\n",
       "      <th>Innovators_3</th>\n",
       "      <td>Innovators</td>\n",
       "      <td>3</td>\n",
       "      <td>2</td>\n",
       "      <td>3.4</td>\n",
       "      <td>-15</td>\n",
       "    </tr>\n",
       "  </tbody>\n",
       "</table>\n",
       "</div>"
      ],
      "text/plain": [
       "                     Segment Period Autonomy Sophistication Economy\n",
       "Index                                                              \n",
       "Adopters_7          Adopters      7     3.52           3.94   -7.76\n",
       "Followers_7        Followers      7     0.96           2.32    -3.2\n",
       "Innovators_7      Innovators      7     5.16           5.24   -9.98\n",
       "Early Adopters_6    Adopters      6     2.62           3.46   -8.38\n",
       "Followers_6        Followers      6     0.38              1   -3.56\n",
       "Innovators_6      Innovators      6     4.44            4.8  -12.24\n",
       "Early Adopters_5    Adopters      5     1.46           2.76   -8.82\n",
       "Followers_5        Followers      5    -0.16           -0.5   -3.92\n",
       "Innovators_5      Innovators      5     3.72           4.36   -13.7\n",
       "Early Adopters_4    Adopters      4    -0.02           1.86   -9.56\n",
       "Followers_4        Followers      4    -2.24          -2.64   -4.64\n",
       "Innovators_4      Innovators      4        3           3.84  -14.36\n",
       "Early Adopters_3    Adopters      3     -0.7            1.4     -10\n",
       "Followers_3        Followers      3     -3.3          -3.64      -5\n",
       "Innovators_3      Innovators      3        2            3.4     -15"
      ]
     },
     "execution_count": 48,
     "metadata": {},
     "output_type": "execute_result"
    }
   ],
   "source": [
    "brd.df_segments_mds"
   ]
  },
  {
   "cell_type": "code",
   "execution_count": 49,
   "metadata": {},
   "outputs": [
    {
     "name": "stdout",
     "output_type": "stream",
     "text": [
      "---------- Adopters_7 ----------\n",
      "Segment:\t REEGO\n",
      "Distance:\t 0.9684128190558258\n",
      "Segment:\t MEOW\n",
      "Distance:\t 0.9320901332647457\n",
      "Segment:\t TENOR\n",
      "Distance:\t 0.7409522244835907\n",
      "\n",
      "---------- Followers_7 ----------\n",
      "Segment:\t REEGO\n",
      "Distance:\t 0.9141047149140303\n",
      "Segment:\t MEOW\n",
      "Distance:\t 0.9110290309520385\n",
      "Segment:\t TENOR\n",
      "Distance:\t 0.7796510343417363\n",
      "\n",
      "---------- Innovators_7 ----------\n",
      "Segment:\t REEGO\n",
      "Distance:\t 0.9436550800870211\n",
      "Segment:\t MEOW\n",
      "Distance:\t 0.9041959465019007\n",
      "Segment:\t TENOR\n",
      "Distance:\t 0.7069173893478724\n",
      "\n"
     ]
    }
   ],
   "source": [
    "df_seg_mds = brd.df_segments_mds[:3][['Autonomy', 'Sophistication', 'Economy']]\n",
    "\n",
    "_ = an.get_n_closest(df_base=df_seg_mds, df_performers=brd.df_brands_mds, num_top=3, max_distance_1D=40, weighted=\"eq\")"
   ]
  },
  {
   "cell_type": "markdown",
   "metadata": {},
   "source": [
    "#### Compute closest Segments for each Brand"
   ]
  },
  {
   "cell_type": "code",
   "execution_count": 50,
   "metadata": {},
   "outputs": [
    {
     "name": "stdout",
     "output_type": "stream",
     "text": [
      "---------- MEOW ----------\n",
      "Segment:\t Adopters_7\n",
      "Distance:\t 0.9320901332647457\n",
      "Segment:\t Followers_7\n",
      "Distance:\t 0.9110290309520385\n",
      "Segment:\t Innovators_7\n",
      "Distance:\t 0.9041959465019007\n",
      "\n",
      "---------- REEGO ----------\n",
      "Segment:\t Adopters_7\n",
      "Distance:\t 0.9684128190558258\n",
      "Segment:\t Innovators_7\n",
      "Distance:\t 0.9436550800870211\n",
      "Segment:\t Followers_7\n",
      "Distance:\t 0.9141047149140303\n",
      "\n",
      "---------- TENOR ----------\n",
      "Segment:\t Followers_7\n",
      "Distance:\t 0.7796510343417363\n",
      "Segment:\t Adopters_7\n",
      "Distance:\t 0.7409522244835907\n",
      "Segment:\t Innovators_7\n",
      "Distance:\t 0.7069173893478724\n",
      "\n"
     ]
    }
   ],
   "source": [
    "_ = an.get_n_closest(df_base=brd.df_brands_mds, df_performers=df_seg_mds, num_top=3, max_distance_1D=40, weighted=\"eq\")"
   ]
  },
  {
   "cell_type": "markdown",
   "metadata": {},
   "source": [
    "#### Distances between all points"
   ]
  },
  {
   "cell_type": "code",
   "execution_count": 51,
   "metadata": {},
   "outputs": [
    {
     "data": {
      "text/html": [
       "<div>\n",
       "<style scoped>\n",
       "    .dataframe tbody tr th:only-of-type {\n",
       "        vertical-align: middle;\n",
       "    }\n",
       "\n",
       "    .dataframe tbody tr th {\n",
       "        vertical-align: top;\n",
       "    }\n",
       "\n",
       "    .dataframe thead th {\n",
       "        text-align: right;\n",
       "    }\n",
       "</style>\n",
       "<table border=\"1\" class=\"dataframe\">\n",
       "  <thead>\n",
       "    <tr style=\"text-align: right;\">\n",
       "      <th></th>\n",
       "      <th>MEOW</th>\n",
       "      <th>REEGO</th>\n",
       "      <th>TENOR</th>\n",
       "      <th>Adopters_7</th>\n",
       "      <th>Followers_7</th>\n",
       "      <th>Innovators_7</th>\n",
       "    </tr>\n",
       "  </thead>\n",
       "  <tbody>\n",
       "    <tr>\n",
       "      <th>MEOW</th>\n",
       "      <td>1.0</td>\n",
       "      <td>0.950467</td>\n",
       "      <td>0.7992</td>\n",
       "      <td>0.93209</td>\n",
       "      <td>0.911029</td>\n",
       "      <td>0.904196</td>\n",
       "    </tr>\n",
       "    <tr>\n",
       "      <th>REEGO</th>\n",
       "      <td>0.950467</td>\n",
       "      <td>1.0</td>\n",
       "      <td>0.75217</td>\n",
       "      <td>0.968413</td>\n",
       "      <td>0.914105</td>\n",
       "      <td>0.943655</td>\n",
       "    </tr>\n",
       "    <tr>\n",
       "      <th>TENOR</th>\n",
       "      <td>0.7992</td>\n",
       "      <td>0.75217</td>\n",
       "      <td>1.0</td>\n",
       "      <td>0.740952</td>\n",
       "      <td>0.779651</td>\n",
       "      <td>0.706917</td>\n",
       "    </tr>\n",
       "    <tr>\n",
       "      <th>Adopters_7</th>\n",
       "      <td>0.93209</td>\n",
       "      <td>0.968413</td>\n",
       "      <td>0.740952</td>\n",
       "      <td>1.0</td>\n",
       "      <td>0.92098</td>\n",
       "      <td>0.955964</td>\n",
       "    </tr>\n",
       "    <tr>\n",
       "      <th>Followers_7</th>\n",
       "      <td>0.911029</td>\n",
       "      <td>0.914105</td>\n",
       "      <td>0.779651</td>\n",
       "      <td>0.92098</td>\n",
       "      <td>1.0</td>\n",
       "      <td>0.877411</td>\n",
       "    </tr>\n",
       "    <tr>\n",
       "      <th>Innovators_7</th>\n",
       "      <td>0.904196</td>\n",
       "      <td>0.943655</td>\n",
       "      <td>0.706917</td>\n",
       "      <td>0.955964</td>\n",
       "      <td>0.877411</td>\n",
       "      <td>1.0</td>\n",
       "    </tr>\n",
       "  </tbody>\n",
       "</table>\n",
       "</div>"
      ],
      "text/plain": [
       "                  MEOW     REEGO     TENOR Adopters_7 Followers_7 Innovators_7\n",
       "MEOW               1.0  0.950467    0.7992    0.93209    0.911029     0.904196\n",
       "REEGO         0.950467       1.0   0.75217   0.968413    0.914105     0.943655\n",
       "TENOR           0.7992   0.75217       1.0   0.740952    0.779651     0.706917\n",
       "Adopters_7     0.93209  0.968413  0.740952        1.0     0.92098     0.955964\n",
       "Followers_7   0.911029  0.914105  0.779651    0.92098         1.0     0.877411\n",
       "Innovators_7  0.904196  0.943655  0.706917   0.955964    0.877411          1.0"
      ]
     },
     "execution_count": 51,
     "metadata": {},
     "output_type": "execute_result"
    }
   ],
   "source": [
    "df_all_mds = brd.get_comprehensive_df_mds()\n",
    "index = df_all_mds.index \n",
    "\n",
    "distances = an.compute_distance_centroids(df_all_mds, df_all_mds, weighted=\"eq\", max_distance_1D=40)[3]\n",
    "\n",
    "\n",
    "df_out_mds = pd.DataFrame(columns=index, index=index)\n",
    "\n",
    "for i, start in enumerate(index):\n",
    "    index_to_search = index[i:]\n",
    "    for stop in index_to_search:\n",
    "        df_out_mds.loc[start, stop] = distances[start][stop]\n",
    "        df_out_mds.loc[stop, start] = distances[start][stop]\n",
    "\n",
    "df_out_mds"
   ]
  },
  {
   "cell_type": "markdown",
   "metadata": {},
   "source": [
    "# Forecast analysis"
   ]
  },
  {
   "cell_type": "code",
   "execution_count": 52,
   "metadata": {},
   "outputs": [
    {
     "data": {
      "text/html": [
       "<div>\n",
       "<style scoped>\n",
       "    .dataframe tbody tr th:only-of-type {\n",
       "        vertical-align: middle;\n",
       "    }\n",
       "\n",
       "    .dataframe tbody tr th {\n",
       "        vertical-align: top;\n",
       "    }\n",
       "\n",
       "    .dataframe thead th {\n",
       "        text-align: right;\n",
       "    }\n",
       "</style>\n",
       "<table border=\"1\" class=\"dataframe\">\n",
       "  <thead>\n",
       "    <tr style=\"text-align: right;\">\n",
       "      <th></th>\n",
       "      <th>Resolution</th>\n",
       "      <th>Energy Efficiency</th>\n",
       "      <th>Carbon Footprint</th>\n",
       "      <th>Connectivity</th>\n",
       "      <th>No. of Apps</th>\n",
       "      <th>Price</th>\n",
       "    </tr>\n",
       "  </thead>\n",
       "  <tbody>\n",
       "    <tr>\n",
       "      <th>Innovators_9</th>\n",
       "      <td>5.52</td>\n",
       "      <td>3.96</td>\n",
       "      <td>3.93</td>\n",
       "      <td>5.43</td>\n",
       "      <td>3.95</td>\n",
       "      <td>4.82</td>\n",
       "    </tr>\n",
       "    <tr>\n",
       "      <th>Adopters_9</th>\n",
       "      <td>5.18</td>\n",
       "      <td>4.38</td>\n",
       "      <td>4.67</td>\n",
       "      <td>4.95</td>\n",
       "      <td>4.46</td>\n",
       "      <td>4.96</td>\n",
       "    </tr>\n",
       "    <tr>\n",
       "      <th>Followers_9</th>\n",
       "      <td>4.85</td>\n",
       "      <td>4.84</td>\n",
       "      <td>2.44</td>\n",
       "      <td>4.1</td>\n",
       "      <td>4.01</td>\n",
       "      <td>4.38</td>\n",
       "    </tr>\n",
       "    <tr>\n",
       "      <th>Innovators_8</th>\n",
       "      <td>5.45</td>\n",
       "      <td>3.83</td>\n",
       "      <td>4.0</td>\n",
       "      <td>5.33</td>\n",
       "      <td>3.91</td>\n",
       "      <td>5.16</td>\n",
       "    </tr>\n",
       "    <tr>\n",
       "      <th>Followers_8</th>\n",
       "      <td>4.61</td>\n",
       "      <td>4.8</td>\n",
       "      <td>2.61</td>\n",
       "      <td>3.99</td>\n",
       "      <td>3.89</td>\n",
       "      <td>4.43</td>\n",
       "    </tr>\n",
       "    <tr>\n",
       "      <th>Adopters_8</th>\n",
       "      <td>5.08</td>\n",
       "      <td>4.33</td>\n",
       "      <td>4.7</td>\n",
       "      <td>4.79</td>\n",
       "      <td>4.45</td>\n",
       "      <td>5.06</td>\n",
       "    </tr>\n",
       "  </tbody>\n",
       "</table>\n",
       "</div>"
      ],
      "text/plain": [
       "             Resolution Energy Efficiency Carbon Footprint Connectivity  \\\n",
       "Innovators_9       5.52              3.96             3.93         5.43   \n",
       "Adopters_9         5.18              4.38             4.67         4.95   \n",
       "Followers_9        4.85              4.84             2.44          4.1   \n",
       "Innovators_8       5.45              3.83              4.0         5.33   \n",
       "Followers_8        4.61               4.8             2.61         3.99   \n",
       "Adopters_8         5.08              4.33              4.7         4.79   \n",
       "\n",
       "             No. of Apps Price  \n",
       "Innovators_9        3.95  4.82  \n",
       "Adopters_9          4.46  4.96  \n",
       "Followers_9         4.01  4.38  \n",
       "Innovators_8        3.91  5.16  \n",
       "Followers_8         3.89  4.43  \n",
       "Adopters_8          4.45  5.06  "
      ]
     },
     "execution_count": 52,
     "metadata": {},
     "output_type": "execute_result"
    }
   ],
   "source": [
    "df_seg_sem_fc = an.forecast_df(brd.df_segments_semantic, steps=2)\n",
    "\n",
    "df_seg_sem_fc = df_seg_sem_fc[(df_seg_sem_fc[\"Period\"]>an.last_period)].drop(labels=[\"Period\", \"Segment\"], axis=1)\n",
    "df_seg_sem_fc"
   ]
  },
  {
   "cell_type": "code",
   "execution_count": 53,
   "metadata": {},
   "outputs": [
    {
     "data": {
      "text/html": [
       "<div>\n",
       "<style scoped>\n",
       "    .dataframe tbody tr th:only-of-type {\n",
       "        vertical-align: middle;\n",
       "    }\n",
       "\n",
       "    .dataframe tbody tr th {\n",
       "        vertical-align: top;\n",
       "    }\n",
       "\n",
       "    .dataframe thead th {\n",
       "        text-align: right;\n",
       "    }\n",
       "</style>\n",
       "<table border=\"1\" class=\"dataframe\">\n",
       "  <thead>\n",
       "    <tr style=\"text-align: right;\">\n",
       "      <th></th>\n",
       "      <th>Innovators_9</th>\n",
       "      <th>Adopters_9</th>\n",
       "      <th>Followers_9</th>\n",
       "      <th>Innovators_8</th>\n",
       "      <th>Followers_8</th>\n",
       "      <th>Adopters_8</th>\n",
       "      <th>MEOW</th>\n",
       "      <th>REEGO</th>\n",
       "      <th>TENOR</th>\n",
       "    </tr>\n",
       "  </thead>\n",
       "  <tbody>\n",
       "    <tr>\n",
       "      <th>Innovators_9</th>\n",
       "      <td>1.0</td>\n",
       "      <td>0.930031</td>\n",
       "      <td>0.841948</td>\n",
       "      <td>0.96932</td>\n",
       "      <td>0.83299</td>\n",
       "      <td>0.917039</td>\n",
       "      <td>0.855079</td>\n",
       "      <td>0.896674</td>\n",
       "      <td>0.665888</td>\n",
       "    </tr>\n",
       "    <tr>\n",
       "      <th>Adopters_9</th>\n",
       "      <td>0.930031</td>\n",
       "      <td>1.0</td>\n",
       "      <td>0.862494</td>\n",
       "      <td>0.932533</td>\n",
       "      <td>0.858362</td>\n",
       "      <td>0.981708</td>\n",
       "      <td>0.87752</td>\n",
       "      <td>0.887681</td>\n",
       "      <td>0.700951</td>\n",
       "    </tr>\n",
       "    <tr>\n",
       "      <th>Followers_9</th>\n",
       "      <td>0.841948</td>\n",
       "      <td>0.862494</td>\n",
       "      <td>1.0</td>\n",
       "      <td>0.837045</td>\n",
       "      <td>0.977944</td>\n",
       "      <td>0.866347</td>\n",
       "      <td>0.82131</td>\n",
       "      <td>0.812493</td>\n",
       "      <td>0.712403</td>\n",
       "    </tr>\n",
       "    <tr>\n",
       "      <th>Innovators_8</th>\n",
       "      <td>0.96932</td>\n",
       "      <td>0.932533</td>\n",
       "      <td>0.837045</td>\n",
       "      <td>1.0</td>\n",
       "      <td>0.830311</td>\n",
       "      <td>0.924476</td>\n",
       "      <td>0.873513</td>\n",
       "      <td>0.917223</td>\n",
       "      <td>0.676105</td>\n",
       "    </tr>\n",
       "    <tr>\n",
       "      <th>Followers_8</th>\n",
       "      <td>0.83299</td>\n",
       "      <td>0.858362</td>\n",
       "      <td>0.977944</td>\n",
       "      <td>0.830311</td>\n",
       "      <td>1.0</td>\n",
       "      <td>0.864384</td>\n",
       "      <td>0.828532</td>\n",
       "      <td>0.812327</td>\n",
       "      <td>0.731814</td>\n",
       "    </tr>\n",
       "    <tr>\n",
       "      <th>Adopters_8</th>\n",
       "      <td>0.917039</td>\n",
       "      <td>0.981708</td>\n",
       "      <td>0.866347</td>\n",
       "      <td>0.924476</td>\n",
       "      <td>0.864384</td>\n",
       "      <td>1.0</td>\n",
       "      <td>0.889377</td>\n",
       "      <td>0.892073</td>\n",
       "      <td>0.714297</td>\n",
       "    </tr>\n",
       "    <tr>\n",
       "      <th>MEOW</th>\n",
       "      <td>0.855079</td>\n",
       "      <td>0.87752</td>\n",
       "      <td>0.82131</td>\n",
       "      <td>0.873513</td>\n",
       "      <td>0.828532</td>\n",
       "      <td>0.889377</td>\n",
       "      <td>1.0</td>\n",
       "      <td>0.922372</td>\n",
       "      <td>0.764245</td>\n",
       "    </tr>\n",
       "    <tr>\n",
       "      <th>REEGO</th>\n",
       "      <td>0.896674</td>\n",
       "      <td>0.887681</td>\n",
       "      <td>0.812493</td>\n",
       "      <td>0.917223</td>\n",
       "      <td>0.812327</td>\n",
       "      <td>0.892073</td>\n",
       "      <td>0.922372</td>\n",
       "      <td>1.0</td>\n",
       "      <td>0.720415</td>\n",
       "    </tr>\n",
       "    <tr>\n",
       "      <th>TENOR</th>\n",
       "      <td>0.665888</td>\n",
       "      <td>0.700951</td>\n",
       "      <td>0.712403</td>\n",
       "      <td>0.676105</td>\n",
       "      <td>0.731814</td>\n",
       "      <td>0.714297</td>\n",
       "      <td>0.764245</td>\n",
       "      <td>0.720415</td>\n",
       "      <td>1.0</td>\n",
       "    </tr>\n",
       "  </tbody>\n",
       "</table>\n",
       "</div>"
      ],
      "text/plain": [
       "             Innovators_9 Adopters_9 Followers_9 Innovators_8 Followers_8  \\\n",
       "Innovators_9          1.0   0.930031    0.841948      0.96932     0.83299   \n",
       "Adopters_9       0.930031        1.0    0.862494     0.932533    0.858362   \n",
       "Followers_9      0.841948   0.862494         1.0     0.837045    0.977944   \n",
       "Innovators_8      0.96932   0.932533    0.837045          1.0    0.830311   \n",
       "Followers_8       0.83299   0.858362    0.977944     0.830311         1.0   \n",
       "Adopters_8       0.917039   0.981708    0.866347     0.924476    0.864384   \n",
       "MEOW             0.855079    0.87752     0.82131     0.873513    0.828532   \n",
       "REEGO            0.896674   0.887681    0.812493     0.917223    0.812327   \n",
       "TENOR            0.665888   0.700951    0.712403     0.676105    0.731814   \n",
       "\n",
       "             Adopters_8      MEOW     REEGO     TENOR  \n",
       "Innovators_9   0.917039  0.855079  0.896674  0.665888  \n",
       "Adopters_9     0.981708   0.87752  0.887681  0.700951  \n",
       "Followers_9    0.866347   0.82131  0.812493  0.712403  \n",
       "Innovators_8   0.924476  0.873513  0.917223  0.676105  \n",
       "Followers_8    0.864384  0.828532  0.812327  0.731814  \n",
       "Adopters_8          1.0  0.889377  0.892073  0.714297  \n",
       "MEOW           0.889377       1.0  0.922372  0.764245  \n",
       "REEGO          0.892073  0.922372       1.0  0.720415  \n",
       "TENOR          0.714297  0.764245  0.720415       1.0  "
      ]
     },
     "execution_count": 53,
     "metadata": {},
     "output_type": "execute_result"
    }
   ],
   "source": [
    "df_all_sem = pd.concat([df_seg_sem_fc, brd.df_brands_semantic], join=\"inner\")\n",
    "index = df_all_sem.index\n",
    "\n",
    "distances = an.compute_distance_centroids(df_all_sem, df_all_sem, weighted=\"default\", max_distance_1D=6)[3]\n",
    "\n",
    "\n",
    "df_out_sem_fc = pd.DataFrame(columns=index, index=index)\n",
    "\n",
    "for i, start in enumerate(index):\n",
    "    index_to_search = index[i:]\n",
    "    for stop in index_to_search:\n",
    "        df_out_sem_fc.loc[start, stop] = distances[start][stop]\n",
    "        df_out_sem_fc.loc[stop, start] = distances[start][stop]\n",
    "\n",
    "df_out_sem_fc"
   ]
  },
  {
   "cell_type": "code",
   "execution_count": 54,
   "metadata": {},
   "outputs": [
    {
     "data": {
      "text/html": [
       "<div>\n",
       "<style scoped>\n",
       "    .dataframe tbody tr th:only-of-type {\n",
       "        vertical-align: middle;\n",
       "    }\n",
       "\n",
       "    .dataframe tbody tr th {\n",
       "        vertical-align: top;\n",
       "    }\n",
       "\n",
       "    .dataframe thead th {\n",
       "        text-align: right;\n",
       "    }\n",
       "</style>\n",
       "<table border=\"1\" class=\"dataframe\">\n",
       "  <thead>\n",
       "    <tr style=\"text-align: right;\">\n",
       "      <th></th>\n",
       "      <th>Autonomy</th>\n",
       "      <th>Sophistication</th>\n",
       "      <th>Economy</th>\n",
       "    </tr>\n",
       "  </thead>\n",
       "  <tbody>\n",
       "    <tr>\n",
       "      <th>Innovators_9</th>\n",
       "      <td>6.6</td>\n",
       "      <td>6.12</td>\n",
       "      <td>-5.46</td>\n",
       "    </tr>\n",
       "    <tr>\n",
       "      <th>Adopters_9</th>\n",
       "      <td>5.32</td>\n",
       "      <td>4.9</td>\n",
       "      <td>-6.52</td>\n",
       "    </tr>\n",
       "    <tr>\n",
       "      <th>Followers_9</th>\n",
       "      <td>2.12</td>\n",
       "      <td>4.96</td>\n",
       "      <td>-2.48</td>\n",
       "    </tr>\n",
       "    <tr>\n",
       "      <th>Innovators_8</th>\n",
       "      <td>5.88</td>\n",
       "      <td>5.68</td>\n",
       "      <td>-7.72</td>\n",
       "    </tr>\n",
       "    <tr>\n",
       "      <th>Followers_8</th>\n",
       "      <td>1.54</td>\n",
       "      <td>3.64</td>\n",
       "      <td>-2.84</td>\n",
       "    </tr>\n",
       "    <tr>\n",
       "      <th>Adopters_8</th>\n",
       "      <td>4.42</td>\n",
       "      <td>4.42</td>\n",
       "      <td>-7.14</td>\n",
       "    </tr>\n",
       "  </tbody>\n",
       "</table>\n",
       "</div>"
      ],
      "text/plain": [
       "             Autonomy Sophistication Economy\n",
       "Innovators_9      6.6           6.12   -5.46\n",
       "Adopters_9       5.32            4.9   -6.52\n",
       "Followers_9      2.12           4.96   -2.48\n",
       "Innovators_8     5.88           5.68   -7.72\n",
       "Followers_8      1.54           3.64   -2.84\n",
       "Adopters_8       4.42           4.42   -7.14"
      ]
     },
     "execution_count": 54,
     "metadata": {},
     "output_type": "execute_result"
    }
   ],
   "source": [
    "df_seg_mds_fc = an.forecast_df(brd.df_segments_mds, steps=2)\n",
    "\n",
    "df_seg_mds_fc = df_seg_mds_fc[(df_seg_mds_fc[\"Period\"]>an.last_period)][['Autonomy', 'Sophistication', 'Economy']]\n",
    "df_seg_mds_fc"
   ]
  },
  {
   "cell_type": "code",
   "execution_count": 55,
   "metadata": {},
   "outputs": [
    {
     "data": {
      "text/html": [
       "<div>\n",
       "<style scoped>\n",
       "    .dataframe tbody tr th:only-of-type {\n",
       "        vertical-align: middle;\n",
       "    }\n",
       "\n",
       "    .dataframe tbody tr th {\n",
       "        vertical-align: top;\n",
       "    }\n",
       "\n",
       "    .dataframe thead th {\n",
       "        text-align: right;\n",
       "    }\n",
       "</style>\n",
       "<table border=\"1\" class=\"dataframe\">\n",
       "  <thead>\n",
       "    <tr style=\"text-align: right;\">\n",
       "      <th></th>\n",
       "      <th>Autonomy</th>\n",
       "      <th>Sophistication</th>\n",
       "      <th>Economy</th>\n",
       "    </tr>\n",
       "    <tr>\n",
       "      <th>MARKET : Vodites</th>\n",
       "      <th></th>\n",
       "      <th></th>\n",
       "      <th></th>\n",
       "    </tr>\n",
       "  </thead>\n",
       "  <tbody>\n",
       "    <tr>\n",
       "      <th>MEOW</th>\n",
       "      <td>0.28</td>\n",
       "      <td>0.82</td>\n",
       "      <td>-9.14</td>\n",
       "    </tr>\n",
       "    <tr>\n",
       "      <th>REEGO</th>\n",
       "      <td>1.64</td>\n",
       "      <td>3.96</td>\n",
       "      <td>-8.88</td>\n",
       "    </tr>\n",
       "    <tr>\n",
       "      <th>TENOR</th>\n",
       "      <td>-6.48</td>\n",
       "      <td>-10.80</td>\n",
       "      <td>-5.56</td>\n",
       "    </tr>\n",
       "  </tbody>\n",
       "</table>\n",
       "</div>"
      ],
      "text/plain": [
       "                  Autonomy  Sophistication  Economy\n",
       "MARKET : Vodites                                   \n",
       "MEOW                  0.28            0.82    -9.14\n",
       "REEGO                 1.64            3.96    -8.88\n",
       "TENOR                -6.48          -10.80    -5.56"
      ]
     },
     "execution_count": 55,
     "metadata": {},
     "output_type": "execute_result"
    }
   ],
   "source": [
    "brd.df_brands_mds"
   ]
  },
  {
   "cell_type": "code",
   "execution_count": 56,
   "metadata": {},
   "outputs": [
    {
     "data": {
      "text/html": [
       "<div>\n",
       "<style scoped>\n",
       "    .dataframe tbody tr th:only-of-type {\n",
       "        vertical-align: middle;\n",
       "    }\n",
       "\n",
       "    .dataframe tbody tr th {\n",
       "        vertical-align: top;\n",
       "    }\n",
       "\n",
       "    .dataframe thead th {\n",
       "        text-align: right;\n",
       "    }\n",
       "</style>\n",
       "<table border=\"1\" class=\"dataframe\">\n",
       "  <thead>\n",
       "    <tr style=\"text-align: right;\">\n",
       "      <th></th>\n",
       "      <th>Innovators_9</th>\n",
       "      <th>Adopters_9</th>\n",
       "      <th>Followers_9</th>\n",
       "      <th>Innovators_8</th>\n",
       "      <th>Followers_8</th>\n",
       "      <th>Adopters_8</th>\n",
       "      <th>MEOW</th>\n",
       "      <th>REEGO</th>\n",
       "      <th>TENOR</th>\n",
       "    </tr>\n",
       "  </thead>\n",
       "  <tbody>\n",
       "    <tr>\n",
       "      <th>Innovators_9</th>\n",
       "      <td>1.0</td>\n",
       "      <td>0.970243</td>\n",
       "      <td>0.920553</td>\n",
       "      <td>0.96518</td>\n",
       "      <td>0.910303</td>\n",
       "      <td>0.953308</td>\n",
       "      <td>0.869636</td>\n",
       "      <td>0.90762</td>\n",
       "      <td>0.691312</td>\n",
       "    </tr>\n",
       "    <tr>\n",
       "      <th>Adopters_9</th>\n",
       "      <td>0.970243</td>\n",
       "      <td>1.0</td>\n",
       "      <td>0.925606</td>\n",
       "      <td>0.977817</td>\n",
       "      <td>0.921713</td>\n",
       "      <td>0.982771</td>\n",
       "      <td>0.899054</td>\n",
       "      <td>0.935457</td>\n",
       "      <td>0.716182</td>\n",
       "    </tr>\n",
       "    <tr>\n",
       "      <th>Followers_9</th>\n",
       "      <td>0.920553</td>\n",
       "      <td>0.925606</td>\n",
       "      <td>1.0</td>\n",
       "      <td>0.906332</td>\n",
       "      <td>0.97855</td>\n",
       "      <td>0.924588</td>\n",
       "      <td>0.883738</td>\n",
       "      <td>0.906247</td>\n",
       "      <td>0.737074</td>\n",
       "    </tr>\n",
       "    <tr>\n",
       "      <th>Innovators_8</th>\n",
       "      <td>0.96518</td>\n",
       "      <td>0.977817</td>\n",
       "      <td>0.906332</td>\n",
       "      <td>1.0</td>\n",
       "      <td>0.901246</td>\n",
       "      <td>0.970933</td>\n",
       "      <td>0.891031</td>\n",
       "      <td>0.931868</td>\n",
       "      <td>0.701035</td>\n",
       "    </tr>\n",
       "    <tr>\n",
       "      <th>Followers_8</th>\n",
       "      <td>0.910303</td>\n",
       "      <td>0.921713</td>\n",
       "      <td>0.97855</td>\n",
       "      <td>0.901246</td>\n",
       "      <td>1.0</td>\n",
       "      <td>0.924456</td>\n",
       "      <td>0.898727</td>\n",
       "      <td>0.912686</td>\n",
       "      <td>0.758377</td>\n",
       "    </tr>\n",
       "    <tr>\n",
       "      <th>Adopters_8</th>\n",
       "      <td>0.953308</td>\n",
       "      <td>0.982771</td>\n",
       "      <td>0.924588</td>\n",
       "      <td>0.970933</td>\n",
       "      <td>0.924456</td>\n",
       "      <td>1.0</td>\n",
       "      <td>0.915714</td>\n",
       "      <td>0.952199</td>\n",
       "      <td>0.728832</td>\n",
       "    </tr>\n",
       "    <tr>\n",
       "      <th>MEOW</th>\n",
       "      <td>0.869636</td>\n",
       "      <td>0.899054</td>\n",
       "      <td>0.883738</td>\n",
       "      <td>0.891031</td>\n",
       "      <td>0.898727</td>\n",
       "      <td>0.915714</td>\n",
       "      <td>1.0</td>\n",
       "      <td>0.950467</td>\n",
       "      <td>0.7992</td>\n",
       "    </tr>\n",
       "    <tr>\n",
       "      <th>REEGO</th>\n",
       "      <td>0.90762</td>\n",
       "      <td>0.935457</td>\n",
       "      <td>0.906247</td>\n",
       "      <td>0.931868</td>\n",
       "      <td>0.912686</td>\n",
       "      <td>0.952199</td>\n",
       "      <td>0.950467</td>\n",
       "      <td>1.0</td>\n",
       "      <td>0.75217</td>\n",
       "    </tr>\n",
       "    <tr>\n",
       "      <th>TENOR</th>\n",
       "      <td>0.691312</td>\n",
       "      <td>0.716182</td>\n",
       "      <td>0.737074</td>\n",
       "      <td>0.701035</td>\n",
       "      <td>0.758377</td>\n",
       "      <td>0.728832</td>\n",
       "      <td>0.7992</td>\n",
       "      <td>0.75217</td>\n",
       "      <td>1.0</td>\n",
       "    </tr>\n",
       "  </tbody>\n",
       "</table>\n",
       "</div>"
      ],
      "text/plain": [
       "             Innovators_9 Adopters_9 Followers_9 Innovators_8 Followers_8  \\\n",
       "Innovators_9          1.0   0.970243    0.920553      0.96518    0.910303   \n",
       "Adopters_9       0.970243        1.0    0.925606     0.977817    0.921713   \n",
       "Followers_9      0.920553   0.925606         1.0     0.906332     0.97855   \n",
       "Innovators_8      0.96518   0.977817    0.906332          1.0    0.901246   \n",
       "Followers_8      0.910303   0.921713     0.97855     0.901246         1.0   \n",
       "Adopters_8       0.953308   0.982771    0.924588     0.970933    0.924456   \n",
       "MEOW             0.869636   0.899054    0.883738     0.891031    0.898727   \n",
       "REEGO             0.90762   0.935457    0.906247     0.931868    0.912686   \n",
       "TENOR            0.691312   0.716182    0.737074     0.701035    0.758377   \n",
       "\n",
       "             Adopters_8      MEOW     REEGO     TENOR  \n",
       "Innovators_9   0.953308  0.869636   0.90762  0.691312  \n",
       "Adopters_9     0.982771  0.899054  0.935457  0.716182  \n",
       "Followers_9    0.924588  0.883738  0.906247  0.737074  \n",
       "Innovators_8   0.970933  0.891031  0.931868  0.701035  \n",
       "Followers_8    0.924456  0.898727  0.912686  0.758377  \n",
       "Adopters_8          1.0  0.915714  0.952199  0.728832  \n",
       "MEOW           0.915714       1.0  0.950467    0.7992  \n",
       "REEGO          0.952199  0.950467       1.0   0.75217  \n",
       "TENOR          0.728832    0.7992   0.75217       1.0  "
      ]
     },
     "execution_count": 56,
     "metadata": {},
     "output_type": "execute_result"
    }
   ],
   "source": [
    "df_all_mds = pd.concat([df_seg_mds_fc, brd.df_brands_mds], join=\"inner\")\n",
    "index = df_all_mds.index\n",
    "\n",
    "distances = an.compute_distance_centroids(df_all_mds, df_all_mds, weighted=\"eq\", max_distance_1D=40)[3]\n",
    "\n",
    "\n",
    "df_out_mds_fc = pd.DataFrame(columns=index, index=index)\n",
    "\n",
    "for i, start in enumerate(index):\n",
    "    index_to_search = index[i:]\n",
    "    for stop in index_to_search:\n",
    "        df_out_mds_fc.loc[start, stop] = distances[start][stop]\n",
    "        df_out_mds_fc.loc[stop, start] = distances[start][stop]\n",
    "\n",
    "df_out_mds_fc"
   ]
  },
  {
   "cell_type": "markdown",
   "metadata": {},
   "source": [
    "## MEOW - Next Period"
   ]
  },
  {
   "cell_type": "code",
   "execution_count": 57,
   "metadata": {},
   "outputs": [
    {
     "data": {
      "text/plain": [
       "array([ 63,  35,  31,   7,  54, 671], dtype=int64)"
      ]
     },
     "execution_count": 57,
     "metadata": {},
     "output_type": "execute_result"
    }
   ],
   "source": [
    "meow_feat = brd.get_features(\"MEOW\").drop(labels=\"Base Cost\", axis=1).values.flatten()\n",
    "\n",
    "meow_feat"
   ]
  },
  {
   "cell_type": "code",
   "execution_count": 58,
   "metadata": {},
   "outputs": [
    {
     "name": "stdout",
     "output_type": "stream",
     "text": [
      "Price 650\n",
      "semantic_error 0.1308086620653779 mds_error 0.0\n",
      "Combined_error: 0.2616173241307558\n",
      "Contribution: 202\n",
      "\n",
      "Price 664\n",
      "semantic_error 0.13132352451847173 mds_error 0.0\n",
      "Combined_error: 0.26264704903694347\n",
      "Contribution: 210\n",
      "\n",
      "Price 679\n",
      "semantic_error 0.132286289969469 mds_error 0.0\n",
      "Combined_error: 0.264572579938938\n",
      "Contribution: 220\n",
      "\n",
      "Price 693\n",
      "semantic_error 0.1335606606784906 mds_error 0.0\n",
      "Combined_error: 0.2671213213569812\n",
      "Contribution: 228\n",
      "\n",
      "Price 707\n",
      "semantic_error 0.13518741134991008 mds_error 0.0\n",
      "Combined_error: 0.27037482269982016\n",
      "Contribution: 237\n",
      "\n",
      "Price 721\n",
      "semantic_error 0.13715400407473044 mds_error 0.0\n",
      "Combined_error: 0.2743080081494609\n",
      "Contribution: 246\n",
      "\n",
      "Price 736\n",
      "semantic_error 0.1396218241648347 mds_error 0.0\n",
      "Combined_error: 0.2792436483296694\n",
      "Contribution: 255\n",
      "\n",
      "Price 750\n",
      "semantic_error 0.14224508418826443 mds_error 0.0\n",
      "Combined_error: 0.28449016837652885\n",
      "Contribution: 264\n",
      "\n"
     ]
    }
   ],
   "source": [
    "from Utils import combined_error\n",
    "\n",
    "target_sem = df_seg_sem_fc.loc[f\"Adopters_{an.last_period+1}\"]\n",
    "target_mds = [0,0,0]\n",
    "\n",
    "\n",
    "prices_array = np.linspace(650, 750, num=8)\n",
    "features = meow_feat.copy()\n",
    "\n",
    "for price in prices_array:\n",
    "    price = round(price)\n",
    "    print(f\"Price {price}\")\n",
    "    no_price_features = np.delete(features, -1)\n",
    "    new_features_meow = np.append(no_price_features, price)\n",
    "    res = combined_error(features=new_features_meow, ideal_semantic=target_sem, ideal_mds=target_mds, semantic_weights=brd.rel_importance_features, mds_weights=[1/3, 1/3,1/3], error_weights=[1,0], model=solver)\n",
    "    print(f\"Combined_error: {res}\")\n",
    "    contr = an.compute_contribution(price, 206, [17/38,12/38,9/38]) ### CHANGE THIS\n",
    "    print(f\"Contribution: {contr}\")\n",
    "    print()\n",
    "\n"
   ]
  },
  {
   "cell_type": "markdown",
   "metadata": {},
   "source": [
    "### Semantic Scales"
   ]
  },
  {
   "cell_type": "code",
   "execution_count": 59,
   "metadata": {},
   "outputs": [
    {
     "data": {
      "text/plain": [
       "[4.3, 2.6, 4.6, 4.3, 4.1, 5.3]"
      ]
     },
     "execution_count": 59,
     "metadata": {},
     "output_type": "execute_result"
    }
   ],
   "source": [
    "new_features_meow = meow_feat # Change price\n",
    "\n",
    "semantic_regressed_meow = np.array(solver.regress_semantic(new_features_meow))\n",
    "semantic_regressed_meow = [round(sem, 1) for sem in semantic_regressed_meow]\n",
    "semantic_regressed_meow"
   ]
  },
  {
   "cell_type": "code",
   "execution_count": 60,
   "metadata": {},
   "outputs": [
    {
     "data": {
      "text/plain": [
       "{'observation': {'centroid': 0.8674469214712424}}"
      ]
     },
     "execution_count": 60,
     "metadata": {},
     "output_type": "execute_result"
    }
   ],
   "source": [
    "res = an.compute_distance_centroids(semantic_regressed_meow, target_sem)\n",
    "res[3]"
   ]
  },
  {
   "cell_type": "code",
   "execution_count": 61,
   "metadata": {},
   "outputs": [
    {
     "data": {
      "text/plain": [
       "{'observation': {'centroid': array([0.7800000000000011, 1.73, 0.10000000000000142, 0.4900000000000002,\n",
       "         0.3500000000000014, 0.23999999999999932], dtype=object)}}"
      ]
     },
     "execution_count": 61,
     "metadata": {},
     "output_type": "execute_result"
    }
   ],
   "source": [
    "res[4]"
   ]
  },
  {
   "cell_type": "markdown",
   "metadata": {},
   "source": [
    "### Multi Dimensional Scaling"
   ]
  },
  {
   "cell_type": "code",
   "execution_count": 62,
   "metadata": {},
   "outputs": [
    {
     "data": {
      "text/plain": [
       "array([0, 0, 0], dtype=int64)"
      ]
     },
     "execution_count": 62,
     "metadata": {},
     "output_type": "execute_result"
    }
   ],
   "source": [
    "mds_regressed = np.array(solver.regress_mds(new_features_meow))\n",
    "mds_regressed "
   ]
  },
  {
   "cell_type": "code",
   "execution_count": 63,
   "metadata": {},
   "outputs": [
    {
     "name": "stderr",
     "output_type": "stream",
     "text": [
      "d:\\Uni\\Anno III\\UCSD\\112\\Markstrat\\Code\\Utils.py:271: RuntimeWarning: invalid value encountered in divide\n",
      "  relative_distance = manhattan_distance / feat_values_array\n",
      "d:\\Uni\\Anno III\\UCSD\\112\\Markstrat\\Code\\Utils.py:283: RuntimeWarning: invalid value encountered in divide\n",
      "  relative_metric = (current_centroid - feat_values_array)/feat_values_array\n"
     ]
    },
    {
     "data": {
      "text/plain": [
       "{'observation': {'centroid': 1.0}}"
      ]
     },
     "execution_count": 63,
     "metadata": {},
     "output_type": "execute_result"
    }
   ],
   "source": [
    "res = an.compute_distance_centroids(mds_regressed, target_mds, max_distance_1D=40, weighted=\"eq\")\n",
    "res[3]"
   ]
  },
  {
   "cell_type": "markdown",
   "metadata": {},
   "source": [
    "### Sensitivity Analysis"
   ]
  },
  {
   "cell_type": "markdown",
   "metadata": {},
   "source": [
    "## MORE - Next Period"
   ]
  },
  {
   "cell_type": "code",
   "execution_count": 64,
   "metadata": {},
   "outputs": [],
   "source": [
    "more_features = np.array([0,0,0,0,0,0])\n",
    "#more_features = brd.get_features(\"MORE\").drop(labels=\"Base Cost\", axis=1).values.flatten()"
   ]
  },
  {
   "cell_type": "code",
   "execution_count": 65,
   "metadata": {},
   "outputs": [
    {
     "name": "stdout",
     "output_type": "stream",
     "text": [
      "Price 650\n",
      "semantic_error 0.7307739835201295 mds_error 0.0\n",
      "Combined_error: 1.461547967040259\n",
      "Contribution: 202\n",
      "\n",
      "Price 664\n",
      "semantic_error 0.7308663195212226 mds_error 0.0\n",
      "Combined_error: 1.4617326390424452\n",
      "Contribution: 210\n",
      "\n",
      "Price 679\n",
      "semantic_error 0.7310399246501046 mds_error 0.0\n",
      "Combined_error: 1.4620798493002092\n",
      "Contribution: 220\n",
      "\n",
      "Price 693\n",
      "semantic_error 0.7312716041249101 mds_error 0.0\n",
      "Combined_error: 1.4625432082498202\n",
      "Contribution: 228\n",
      "\n",
      "Price 707\n",
      "semantic_error 0.731570464894554 mds_error 0.0\n",
      "Combined_error: 1.463140929789108\n",
      "Contribution: 237\n",
      "\n",
      "Price 721\n",
      "semantic_error 0.7319364246656095 mds_error 0.0\n",
      "Combined_error: 1.463872849331219\n",
      "Contribution: 246\n",
      "\n",
      "Price 736\n",
      "semantic_error 0.7324028691244049 mds_error 0.0\n",
      "Combined_error: 1.4648057382488098\n",
      "Contribution: 255\n",
      "\n",
      "Price 750\n",
      "semantic_error 0.732907479081958 mds_error 0.0\n",
      "Combined_error: 1.465814958163916\n",
      "Contribution: 264\n",
      "\n"
     ]
    }
   ],
   "source": [
    "from Utils import combined_error\n",
    "\n",
    "explorers_semantic_mk = df_seg_sem_fc.loc[f\"Followers_{an.last_period+1}\"]\n",
    "explorers_mds_mk = [0,0,0]\n",
    "\n",
    "prices_array = np.linspace(650, 750, num=8)\n",
    "features = more_features.copy()\n",
    "\n",
    "for price in prices_array:\n",
    "    price = round(price)\n",
    "    print(f\"Price {price}\")\n",
    "    no_price_features = np.delete(features, -1)\n",
    "    new_features = np.append(no_price_features, price)\n",
    "    res = combined_error(features=new_features, ideal_semantic=target_sem, ideal_mds=target_mds, semantic_weights=brd.rel_importance_features, mds_weights=[1/3, 1/3,1/3], error_weights=[1,0], model=solver)\n",
    "    print(f\"Combined_error: {res}\")\n",
    "    contr = an.compute_contribution(price, 206, [17/38,12/38,9/38]) ### CHANGE THIS\n",
    "    print(f\"Contribution: {contr}\")\n",
    "    print()\n",
    "\n"
   ]
  },
  {
   "cell_type": "code",
   "execution_count": 66,
   "metadata": {},
   "outputs": [
    {
     "data": {
      "text/plain": [
       "[4.3, 2.6, 4.6, 4.3, 4.1, 5.3]"
      ]
     },
     "execution_count": 66,
     "metadata": {},
     "output_type": "execute_result"
    }
   ],
   "source": [
    "new_features_more = meow_feat # Change price\n",
    "\n",
    "semantic_regressed_more = np.array(solver.regress_semantic(new_features_more))\n",
    "semantic_regressed_more = [round(sem, 1) for sem in semantic_regressed_more]\n",
    "semantic_regressed_more"
   ]
  },
  {
   "cell_type": "code",
   "execution_count": 67,
   "metadata": {},
   "outputs": [
    {
     "data": {
      "text/plain": [
       "Resolution           4.61\n",
       "Energy Efficiency     4.8\n",
       "Carbon Footprint     2.61\n",
       "Connectivity         3.99\n",
       "No. of Apps          3.89\n",
       "Price                4.43\n",
       "Name: Followers_8, dtype: object"
      ]
     },
     "execution_count": 67,
     "metadata": {},
     "output_type": "execute_result"
    }
   ],
   "source": [
    "explorers_semantic_mk"
   ]
  },
  {
   "cell_type": "code",
   "execution_count": 68,
   "metadata": {},
   "outputs": [
    {
     "data": {
      "text/plain": [
       "{'observation': {'centroid': 0.8189001692634407}}"
      ]
     },
     "execution_count": 68,
     "metadata": {},
     "output_type": "execute_result"
    }
   ],
   "source": [
    "an.compute_distance_centroids(semantic_regressed_more, explorers_semantic_mk)[3]"
   ]
  },
  {
   "cell_type": "code",
   "execution_count": 69,
   "metadata": {},
   "outputs": [
    {
     "data": {
      "text/plain": [
       "{'observation': {'centroid': array([0.3100000000000005, 2.1999999999999997, 1.9900000000000002,\n",
       "         0.31000000000000005, 0.20999999999999952, 0.8699999999999992],\n",
       "        dtype=object)}}"
      ]
     },
     "execution_count": 69,
     "metadata": {},
     "output_type": "execute_result"
    }
   ],
   "source": [
    "an.compute_distance_centroids(semantic_regressed_more, explorers_semantic_mk)[4]"
   ]
  },
  {
   "cell_type": "code",
   "execution_count": 70,
   "metadata": {},
   "outputs": [
    {
     "data": {
      "text/plain": [
       "[0, 0, 0]"
      ]
     },
     "execution_count": 70,
     "metadata": {},
     "output_type": "execute_result"
    }
   ],
   "source": [
    "mds_more = solver.regress_mds(new_features_more)\n",
    "mds_more = [round(mds) for mds in mds_more] \n",
    "mds_more"
   ]
  },
  {
   "cell_type": "code",
   "execution_count": 71,
   "metadata": {},
   "outputs": [
    {
     "name": "stderr",
     "output_type": "stream",
     "text": [
      "d:\\Uni\\Anno III\\UCSD\\112\\Markstrat\\Code\\Utils.py:271: RuntimeWarning: invalid value encountered in divide\n",
      "  relative_distance = manhattan_distance / feat_values_array\n",
      "d:\\Uni\\Anno III\\UCSD\\112\\Markstrat\\Code\\Utils.py:283: RuntimeWarning: invalid value encountered in divide\n",
      "  relative_metric = (current_centroid - feat_values_array)/feat_values_array\n"
     ]
    },
    {
     "data": {
      "text/plain": [
       "{'observation': {'centroid': 1.0}}"
      ]
     },
     "execution_count": 71,
     "metadata": {},
     "output_type": "execute_result"
    }
   ],
   "source": [
    "an.compute_distance_centroids(mds_more, explorers_mds_mk, weighted=\"eq\", max_distance_1D=40)[3]"
   ]
  },
  {
   "cell_type": "code",
   "execution_count": 72,
   "metadata": {},
   "outputs": [
    {
     "data": {
      "text/html": [
       "<div>\n",
       "<style scoped>\n",
       "    .dataframe tbody tr th:only-of-type {\n",
       "        vertical-align: middle;\n",
       "    }\n",
       "\n",
       "    .dataframe tbody tr th {\n",
       "        vertical-align: top;\n",
       "    }\n",
       "\n",
       "    .dataframe thead th {\n",
       "        text-align: right;\n",
       "    }\n",
       "</style>\n",
       "<table border=\"1\" class=\"dataframe\">\n",
       "  <thead>\n",
       "    <tr style=\"text-align: right;\">\n",
       "      <th></th>\n",
       "      <th>Autonomy</th>\n",
       "      <th>Sophistication</th>\n",
       "      <th>Economy</th>\n",
       "    </tr>\n",
       "    <tr>\n",
       "      <th>MARKET : Vodites</th>\n",
       "      <th></th>\n",
       "      <th></th>\n",
       "      <th></th>\n",
       "    </tr>\n",
       "  </thead>\n",
       "  <tbody>\n",
       "  </tbody>\n",
       "</table>\n",
       "</div>"
      ],
      "text/plain": [
       "Empty DataFrame\n",
       "Columns: [Autonomy, Sophistication, Economy]\n",
       "Index: []"
      ]
     },
     "execution_count": 72,
     "metadata": {},
     "output_type": "execute_result"
    }
   ],
   "source": [
    "brd.move_mds"
   ]
  },
  {
   "cell_type": "code",
   "execution_count": 73,
   "metadata": {},
   "outputs": [
    {
     "data": {
      "text/plain": [
       "[0, 0, 0]"
      ]
     },
     "execution_count": 73,
     "metadata": {},
     "output_type": "execute_result"
    }
   ],
   "source": [
    "explorers_mds_mk"
   ]
  },
  {
   "cell_type": "code",
   "execution_count": 74,
   "metadata": {},
   "outputs": [
    {
     "name": "stderr",
     "output_type": "stream",
     "text": [
      "d:\\Uni\\Anno III\\UCSD\\112\\Markstrat\\Code\\Utils.py:271: RuntimeWarning: invalid value encountered in divide\n",
      "  relative_distance = manhattan_distance / feat_values_array\n",
      "d:\\Uni\\Anno III\\UCSD\\112\\Markstrat\\Code\\Utils.py:283: RuntimeWarning: invalid value encountered in divide\n",
      "  relative_metric = (current_centroid - feat_values_array)/feat_values_array\n"
     ]
    },
    {
     "data": {
      "text/plain": [
       "{'observation': {'centroid': array([0, 0, 0], dtype=int64)}}"
      ]
     },
     "execution_count": 74,
     "metadata": {},
     "output_type": "execute_result"
    }
   ],
   "source": [
    "an.compute_distance_centroids(mds_more, explorers_mds_mk, weighted=\"eq\", max_distance_1D=40)[4]"
   ]
  }
 ],
 "metadata": {
  "kernelspec": {
   "display_name": "venv",
   "language": "python",
   "name": "python3"
  },
  "language_info": {
   "codemirror_mode": {
    "name": "ipython",
    "version": 3
   },
   "file_extension": ".py",
   "mimetype": "text/x-python",
   "name": "python",
   "nbconvert_exporter": "python",
   "pygments_lexer": "ipython3",
   "version": "3.11.1"
  }
 },
 "nbformat": 4,
 "nbformat_minor": 2
}
