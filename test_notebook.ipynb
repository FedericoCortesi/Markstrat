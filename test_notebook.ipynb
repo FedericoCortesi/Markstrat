{
 "cells": [
  {
   "cell_type": "code",
   "execution_count": 40,
   "metadata": {},
   "outputs": [
    {
     "name": "stdout",
     "output_type": "stream",
     "text": [
      "./Exports/TeamExport_A46051_Alpha_M_Period 3.xlsx loaded\n",
      "No weights provided\n",
      "before\n",
      "./Exports/TeamExport_A46051_Alpha_M_Period 3.xlsx loaded\n",
      "after\n",
      "./Exports/TeamExport_A46051_Alpha_M_Period 3.xlsx loaded\n",
      "Attributes file:./Attributes/attributes_3.json\n"
     ]
    }
   ],
   "source": [
    "from Brands import Sonites\n",
    "from Analyzer import Analyzer\n",
    "from Solver import Solver\n",
    "from Utils import combined_error_minimum_distance\n",
    "import numpy as np\n",
    "\n",
    "son = Sonites()\n",
    "an = Analyzer()\n",
    "solver = Solver()\n",
    "\n"
   ]
  },
  {
   "cell_type": "code",
   "execution_count": 33,
   "metadata": {},
   "outputs": [
    {
     "data": {
      "text/plain": [
       "array([4.489999999999991, 2.7399999999999896, 5.42999999999998,\n",
       "       5.489999999999952, 5.909999999999947, 4.39999999999999],\n",
       "      dtype=object)"
      ]
     },
     "execution_count": 33,
     "metadata": {},
     "output_type": "execute_result"
    }
   ],
   "source": [
    "df_seg_sem_fc = an.forecast_df(dataframe=son.df_segments_semantic, steps=2)\n",
    "target_sem = df_seg_sem_fc[(df_seg_sem_fc[\"Segment\"]==\"Explorers\")&(df_seg_sem_fc[\"Period\"]==5)][['# Features', 'Design Index', 'Battery Life', 'Display Size', 'Proc. Power', 'Price']].values\n",
    "target_sem = target_sem.flatten()\n",
    "target_sem"
   ]
  },
  {
   "cell_type": "code",
   "execution_count": 34,
   "metadata": {},
   "outputs": [
    {
     "data": {
      "text/plain": [
       "array([-2.9, 12.199999999999974, -3.8200000000000056], dtype=object)"
      ]
     },
     "execution_count": 34,
     "metadata": {},
     "output_type": "execute_result"
    }
   ],
   "source": [
    "df_seg_mds_fc = an.forecast_df(dataframe=son.df_segments_mds, steps=2)\n",
    "target_mds = df_seg_mds_fc[(df_seg_mds_fc[\"Segment\"]==\"Explorers\")&(df_seg_mds_fc[\"Period\"]==5)][['Economy', 'Performance', 'Convenience']].values\n",
    "target_mds = target_mds.flatten()\n",
    "target_mds"
   ]
  },
  {
   "cell_type": "code",
   "execution_count": 41,
   "metadata": {},
   "outputs": [
    {
     "data": {
      "text/plain": [
       "array([ 13,   6,  82,  31,  83, 350], dtype=int64)"
      ]
     },
     "execution_count": 41,
     "metadata": {},
     "output_type": "execute_result"
    }
   ],
   "source": [
    "features = son.move_features.drop(labels=\"Base Cost\", axis=1)\n",
    "features = features.values.flatten()\n",
    "features"
   ]
  },
  {
   "cell_type": "code",
   "execution_count": 43,
   "metadata": {},
   "outputs": [
    {
     "data": {
      "text/plain": [
       "array([4.17487564, 3.30112158, 6.06721311, 5.41784812, 5.49968237,\n",
       "       4.2407576 ])"
      ]
     },
     "execution_count": 43,
     "metadata": {},
     "output_type": "execute_result"
    }
   ],
   "source": [
    "solver.regress_semantic(features)"
   ]
  },
  {
   "cell_type": "code",
   "execution_count": 37,
   "metadata": {},
   "outputs": [
    {
     "data": {
      "text/html": [
       "<div>\n",
       "<style scoped>\n",
       "    .dataframe tbody tr th:only-of-type {\n",
       "        vertical-align: middle;\n",
       "    }\n",
       "\n",
       "    .dataframe tbody tr th {\n",
       "        vertical-align: top;\n",
       "    }\n",
       "\n",
       "    .dataframe thead th {\n",
       "        text-align: right;\n",
       "    }\n",
       "</style>\n",
       "<table border=\"1\" class=\"dataframe\">\n",
       "  <thead>\n",
       "    <tr style=\"text-align: right;\">\n",
       "      <th></th>\n",
       "      <th># Features</th>\n",
       "      <th>Design Index</th>\n",
       "      <th>Battery Life</th>\n",
       "      <th>Display Size</th>\n",
       "      <th>Proc. Power</th>\n",
       "      <th>Price</th>\n",
       "    </tr>\n",
       "    <tr>\n",
       "      <th>MARKET : Sonites</th>\n",
       "      <th></th>\n",
       "      <th></th>\n",
       "      <th></th>\n",
       "      <th></th>\n",
       "      <th></th>\n",
       "      <th></th>\n",
       "    </tr>\n",
       "  </thead>\n",
       "  <tbody>\n",
       "    <tr>\n",
       "      <th>MOVE</th>\n",
       "      <td>4.26</td>\n",
       "      <td>2.58</td>\n",
       "      <td>5.93</td>\n",
       "      <td>4.56</td>\n",
       "      <td>4.58</td>\n",
       "      <td>4.71</td>\n",
       "    </tr>\n",
       "  </tbody>\n",
       "</table>\n",
       "</div>"
      ],
      "text/plain": [
       "                 # Features Design Index Battery Life Display Size  \\\n",
       "MARKET : Sonites                                                     \n",
       "MOVE                   4.26         2.58         5.93         4.56   \n",
       "\n",
       "                 Proc. Power Price  \n",
       "MARKET : Sonites                    \n",
       "MOVE                    4.58  4.71  "
      ]
     },
     "execution_count": 37,
     "metadata": {},
     "output_type": "execute_result"
    }
   ],
   "source": [
    "son.move_semantic"
   ]
  },
  {
   "cell_type": "code",
   "execution_count": null,
   "metadata": {},
   "outputs": [],
   "source": [
    "import optuna\n",
    "\n",
    "def find_optimum_constrained(ideal_semantic: list, ideal_mds: list, semantic_weights: list,\n",
    "                            mds_weights: list = [1/3, 1/3, 1/3], error_weights: np.ndarray = np.array([1, 1])):\n",
    "    # Define Feature bounds\n",
    "    feature_bounds = [(5, 20), (3, 10), (24, 96), (4, 40), (5, 100), (215, 475)]\n",
    "\n",
    "    def objective(trial):\n",
    "        # Sample features within the defined bounds\n",
    "        features = [trial.suggest_float(f'feature_{i}', bound[0], bound[1]) for i, bound in enumerate(feature_bounds)]\n",
    "        \n",
    "        # Calculate the combined error using the original function (assumed to be defined outside this context)\n",
    "        combined_error = combined_error(\n",
    "            features,\n",
    "            ideal_semantic, \n",
    "            ideal_mds, \n",
    "            semantic_weights, \n",
    "            mds_weights, \n",
    "            error_weights, \n",
    "            solver\n",
    "        )\n",
    "        return combined_error\n",
    "\n",
    "    # Create an Optuna study and optimize the objective function\n",
    "    study = optuna.create_study()\n",
    "    study.optimize(objective, n_trials=1000)  # You can adjust the number of trials as needed\n",
    "\n",
    "    optimal_features = study.best_params.values()\n",
    "    min_error = study.best_value\n",
    "    print(\"Optimal Features:\", optimal_features)\n",
    "    print(\"Minimum Combined Error:\", min_error)\n",
    "\n",
    "    return optimal_features, min_error\n"
   ]
  },
  {
   "cell_type": "code",
   "execution_count": null,
   "metadata": {},
   "outputs": [],
   "source": []
  }
 ],
 "metadata": {
  "kernelspec": {
   "display_name": "venv",
   "language": "python",
   "name": "python3"
  },
  "language_info": {
   "codemirror_mode": {
    "name": "ipython",
    "version": 3
   },
   "file_extension": ".py",
   "mimetype": "text/x-python",
   "name": "python",
   "nbconvert_exporter": "python",
   "pygments_lexer": "ipython3",
   "version": "3.11.1"
  }
 },
 "nbformat": 4,
 "nbformat_minor": 2
}
