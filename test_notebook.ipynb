{
 "cells": [
  {
   "cell_type": "code",
   "execution_count": 1,
   "metadata": {},
   "outputs": [
    {
     "name": "stdout",
     "output_type": "stream",
     "text": [
      "./Exports/TeamExport_A46051_Alpha_M_Period 3.xlsx loaded\n",
      "No weights provided\n",
      "./Exports/TeamExport_A46051_Alpha_M_Period 3.xlsx loaded\n",
      "./Exports/TeamExport_A46051_Alpha_M_Period 3.xlsx loaded\n"
     ]
    }
   ],
   "source": [
    "from Brands import Sonites\n",
    "from Analyzer import Analyzer\n",
    "from Solver import Solver\n",
    "import numpy as np\n",
    "\n",
    "son = Sonites()\n",
    "an = Analyzer()\n",
    "solver = Solver()\n",
    "\n",
    "\n"
   ]
  },
  {
   "cell_type": "code",
   "execution_count": 2,
   "metadata": {},
   "outputs": [
    {
     "data": {
      "text/plain": [
       "array([[4.489999999999991, 2.7399999999999896, 5.42999999999998,\n",
       "        5.489999999999952, 5.909999999999947, 4.39999999999999]],\n",
       "      dtype=object)"
      ]
     },
     "execution_count": 2,
     "metadata": {},
     "output_type": "execute_result"
    }
   ],
   "source": [
    "df_seg_sem_fc = an.forecast_df(dataframe=son.df_segments_semantic, steps=2)\n",
    "target_sem = df_seg_sem_fc[(df_seg_sem_fc[\"Segment\"]==\"Explorers\")&(df_seg_sem_fc[\"Period\"]==5)][['# Features', 'Design Index', 'Battery Life', 'Display Size', 'Proc. Power', 'Price']].values\n",
    "target_sem"
   ]
  },
  {
   "cell_type": "code",
   "execution_count": 3,
   "metadata": {},
   "outputs": [
    {
     "data": {
      "text/plain": [
       "array([[-2.9, 12.199999999999974, -3.8200000000000056]], dtype=object)"
      ]
     },
     "execution_count": 3,
     "metadata": {},
     "output_type": "execute_result"
    }
   ],
   "source": [
    "df_seg_mds_fc = an.forecast_df(dataframe=son.df_segments_mds, steps=2)\n",
    "target_mds = df_seg_mds_fc[(df_seg_mds_fc[\"Segment\"]==\"Explorers\")&(df_seg_mds_fc[\"Period\"]==5)][['Economy', 'Performance', 'Convenience']].values\n",
    "target_mds\n"
   ]
  },
  {
   "cell_type": "code",
   "execution_count": 4,
   "metadata": {},
   "outputs": [
    {
     "name": "stdout",
     "output_type": "stream",
     "text": [
      "Optimal Features: [ 15.5722504    5.72529213  68.22228002  32.64031286  96.28690132\n",
      " 362.22146708]\n",
      "Minimum Combined Error: 0.026081403686407545\n"
     ]
    }
   ],
   "source": [
    "optimum = solver.find_optimum(ideal_semantic=target_sem, ideal_mds=target_mds, semantic_weights=son.rel_importance_features, mds_weights=[1/3,1/3,1/3])"
   ]
  },
  {
   "cell_type": "code",
   "execution_count": 6,
   "metadata": {},
   "outputs": [
    {
     "name": "stdout",
     "output_type": "stream",
     "text": [
      "---------- Logged In ----------\n"
     ]
    }
   ],
   "source": [
    "from Scraper import Scraper\n",
    "\n",
    "scraper = Scraper(headless=False)\n",
    "\n",
    "scraper._login()\n"
   ]
  },
  {
   "cell_type": "code",
   "execution_count": null,
   "metadata": {},
   "outputs": [
    {
     "name": "stdout",
     "output_type": "stream",
     "text": [
      "<!DOCTYPE html>\n",
      "<html>\n",
      "    <head>\n",
      "        <title>Runtime Error</title>\n",
      "        <meta name=\"viewport\" content=\"width=device-width\" />\n",
      "        <style>\n",
      "         body {font-family:\"Verdana\";font-weight:normal;font-size: .7em;color:black;} \n",
      "         p {font-family:\"Verdana\";font-weight:normal;color:black;margin-top: -5px}\n",
      "         b {font-family:\"Verdana\";font-weight:bold;color:black;margin-top: -5px}\n",
      "         H1 { font-family:\"Verdana\";font-weight:normal;font-size:18pt;color:red }\n",
      "         H2 { font-family:\"Verdana\";font-weight:normal;font-size:14pt;color:maroon }\n",
      "         pre {font-family:\"Consolas\",\"Lucida Console\",Monospace;font-size:11pt;margin:0;padding:0.5em;line-height:14pt}\n",
      "         .marker {font-weight: bold; color: black;text-decoration: none;}\n",
      "         .version {color: gray;}\n",
      "         .error {margin-bottom: 10px;}\n",
      "         .expandable { text-decoration:underline; font-weight:bold; color:navy; cursor:pointer; }\n",
      "         @media screen and (max-width: 639px) {\n",
      "          pre { width: 440px; overflow: auto; white-space: pre-wrap; word-wrap: break-word; }\n",
      "         }\n",
      "         @media screen and (max-width: 479px) {\n",
      "          pre { width: 280px; }\n",
      "         }\n",
      "        </style>\n",
      "    </head>\n",
      "\n",
      "    <body bgcolor=\"white\">\n",
      "\n",
      "            <span><H1>Server Error in '/' Application.<hr width=100% size=1 color=silver></H1>\n",
      "\n",
      "            <h2> <i>Runtime Error</i> </h2></span>\n",
      "\n",
      "            <font face=\"Arial, Helvetica, Geneva, SunSans-Regular, sans-serif \">\n",
      "\n",
      "            <b> Description: </b>An application error occurred on the server. The current custom error settings for this application prevent the details of the application error from being viewed remotely (for security reasons). It could, however, be viewed by browsers running on the local server machine.\n",
      "            <br><br>\n",
      "\n",
      "            <b>Details:</b> To enable the details of this specific error message to be viewable on remote machines, please create a &lt;customErrors&gt; tag within a &quot;web.config&quot; configuration file located in the root directory of the current web application. This &lt;customErrors&gt; tag should then have its &quot;mode&quot; attribute set to &quot;Off&quot;.<br><br>\n",
      "\n",
      "            <table width=100% bgcolor=\"#ffffcc\">\n",
      "               <tr>\n",
      "                  <td>\n",
      "                      <code><pre>\n",
      "\n",
      "&lt;!-- Web.Config Configuration File --&gt;\n",
      "\n",
      "&lt;configuration&gt;\n",
      "    &lt;system.web&gt;\n",
      "        &lt;customErrors mode=&quot;Off&quot;/&gt;\n",
      "    &lt;/system.web&gt;\n",
      "&lt;/configuration&gt;</pre>                      </code>\n",
      "\n",
      "                  </td>\n",
      "               </tr>\n",
      "            </table>\n",
      "\n",
      "            <br>\n",
      "\n",
      "            <b>Notes:</b> The current error page you are seeing can be replaced by a custom error page by modifying the &quot;defaultRedirect&quot; attribute of the application&#39;s &lt;customErrors&gt; configuration tag to point to a custom error page URL.<br><br>\n",
      "\n",
      "            <table width=100% bgcolor=\"#ffffcc\">\n",
      "               <tr>\n",
      "                  <td>\n",
      "                      <code><pre>\n",
      "\n",
      "&lt;!-- Web.Config Configuration File --&gt;\n",
      "\n",
      "&lt;configuration&gt;\n",
      "    &lt;system.web&gt;\n",
      "        &lt;customErrors mode=&quot;RemoteOnly&quot; defaultRedirect=&quot;mycustompage.htm&quot;/&gt;\n",
      "    &lt;/system.web&gt;\n",
      "&lt;/configuration&gt;</pre>                      </code>\n",
      "\n",
      "                  </td>\n",
      "               </tr>\n",
      "            </table>\n",
      "\n",
      "            <br>\n",
      "\n",
      "            </font>\n",
      "\n",
      "    </body>\n",
      "</html>\n",
      "\n"
     ]
    }
   ],
   "source": [
    "import requests\n",
    "\n",
    "url = \"https://markstrat7.stratxsimulations.com/\"\n",
    "\n",
    "headers = {\n",
    "    \"Content-Type\": \"application/x-www-form-urlencoded; charset=UTF-8\",\n",
    "    \"X-Requested-With\": \"XMLHttpRequest\",\n",
    "    \"User-Agent\": \"Mozilla/5.0 (Windows NT 10.0; Win64; x64) AppleWebKit/537.36 (KHTML, like Gecko) Chrome/122.0.0.0 Safari/537.36\",\n",
    "    \"Cookie\": \"__RequestVerificationToken=your_token_value; SxAuth=your_auth_token\"  # Replace with actual tokens\n",
    "}\n",
    "data = {\n",
    "    # Replace with actual required fields, such as username, password, or PAK code\n",
    "    \"PAK\": \"PMW-PHLWW\",\n",
    "}\n",
    "\n",
    "response = requests.post(url, headers=headers, data=data)\n",
    "print(response.text)  # Prints the JSON response from the server\n"
   ]
  }
 ],
 "metadata": {
  "kernelspec": {
   "display_name": "Python 3",
   "language": "python",
   "name": "python3"
  },
  "language_info": {
   "codemirror_mode": {
    "name": "ipython",
    "version": 3
   },
   "file_extension": ".py",
   "mimetype": "text/x-python",
   "name": "python",
   "nbconvert_exporter": "python",
   "pygments_lexer": "ipython3",
   "version": "3.11.1"
  }
 },
 "nbformat": 4,
 "nbformat_minor": 2
}
