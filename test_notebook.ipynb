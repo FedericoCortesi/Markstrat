{
 "cells": [
  {
   "cell_type": "code",
   "execution_count": null,
   "metadata": {},
   "outputs": [
    {
     "name": "stdout",
     "output_type": "stream",
     "text": [
      "./Exports/TeamExport_A46051_Alpha_M_Period 3.xlsx loaded\n",
      "No weights provided\n",
      "./Exports/TeamExport_A46051_Alpha_M_Period 3.xlsx loaded\n",
      "./Exports/TeamExport_A46051_Alpha_M_Period 3.xlsx loaded\n",
      "Attributes file:./Attributes/attributes_3.json\n"
     ]
    }
   ],
   "source": [
    "from Brands import Sonites\n",
    "from Analyzer import Analyzer\n",
    "from Solver import Solver\n",
    "import numpy as np\n",
    "\n",
    "son = Sonites()\n",
    "print(\"----\")\n",
    "an = Analyzer()\n",
    "print(\"----\")\n",
    "solver = Solver()\n",
    "\n"
   ]
  },
  {
   "cell_type": "code",
   "execution_count": 2,
   "metadata": {},
   "outputs": [
    {
     "data": {
      "text/plain": [
       "array([[4.489999999999991, 2.7399999999999896, 5.42999999999998,\n",
       "        5.489999999999952, 5.909999999999947, 4.39999999999999]],\n",
       "      dtype=object)"
      ]
     },
     "execution_count": 2,
     "metadata": {},
     "output_type": "execute_result"
    }
   ],
   "source": [
    "df_seg_sem_fc = an.forecast_df(dataframe=son.df_segments_semantic, steps=2)\n",
    "target_sem = df_seg_sem_fc[(df_seg_sem_fc[\"Segment\"]==\"Explorers\")&(df_seg_sem_fc[\"Period\"]==5)][['# Features', 'Design Index', 'Battery Life', 'Display Size', 'Proc. Power', 'Price']].values\n",
    "target_sem"
   ]
  },
  {
   "cell_type": "code",
   "execution_count": 3,
   "metadata": {},
   "outputs": [
    {
     "data": {
      "text/plain": [
       "array([[-2.9, 12.199999999999974, -3.8200000000000056]], dtype=object)"
      ]
     },
     "execution_count": 3,
     "metadata": {},
     "output_type": "execute_result"
    }
   ],
   "source": [
    "df_seg_mds_fc = an.forecast_df(dataframe=son.df_segments_mds, steps=2)\n",
    "target_mds = df_seg_mds_fc[(df_seg_mds_fc[\"Segment\"]==\"Explorers\")&(df_seg_mds_fc[\"Period\"]==5)][['Economy', 'Performance', 'Convenience']].values\n",
    "target_mds\n"
   ]
  },
  {
   "cell_type": "code",
   "execution_count": 17,
   "metadata": {},
   "outputs": [
    {
     "name": "stdout",
     "output_type": "stream",
     "text": [
      "Optimal Features: [ 13.7771045    5.40882125  75.13004054  31.43472095  90.23523662\n",
      " 360.64020121]\n",
      "Minimum Combined Error: 0.05101430300072011\n"
     ]
    }
   ],
   "source": [
    "optimum = solver.find_optimum(ideal_semantic=target_sem, ideal_mds=target_mds, semantic_weights=son.rel_importance_features, \n",
    "                              mds_weights=[1/3,1/3,1/3], error_weights=np.array([2,1]))"
   ]
  },
  {
   "cell_type": "code",
   "execution_count": 5,
   "metadata": {},
   "outputs": [
    {
     "data": {
      "text/plain": [
       "[4.794708791480178,\n",
       " 2.888235772459064,\n",
       " 5.1642643670272195,\n",
       " 5.548093557783089,\n",
       " 6.025823656001767,\n",
       " 4.369597261503873]"
      ]
     },
     "execution_count": 5,
     "metadata": {},
     "output_type": "execute_result"
    }
   ],
   "source": [
    "sem_solved  = solver.regress_semantic(optimum[0])\n",
    "sem_solved"
   ]
  },
  {
   "cell_type": "code",
   "execution_count": 6,
   "metadata": {},
   "outputs": [
    {
     "data": {
      "text/plain": [
       "array([[4.489999999999991, 2.7399999999999896, 5.42999999999998,\n",
       "        5.489999999999952, 5.909999999999947, 4.39999999999999]],\n",
       "      dtype=object)"
      ]
     },
     "execution_count": 6,
     "metadata": {},
     "output_type": "execute_result"
    }
   ],
   "source": [
    "target_sem"
   ]
  },
  {
   "cell_type": "code",
   "execution_count": 7,
   "metadata": {},
   "outputs": [
    {
     "data": {
      "text/plain": [
       "0.97890962534491"
      ]
     },
     "execution_count": 7,
     "metadata": {},
     "output_type": "execute_result"
    }
   ],
   "source": [
    "from Utils import relevance_score\n",
    "\n",
    "relevance_score(sem_solved, target_sem, max_distance_1D=6, weights=an.rel_importance_features)"
   ]
  },
  {
   "cell_type": "code",
   "execution_count": 8,
   "metadata": {},
   "outputs": [
    {
     "data": {
      "text/plain": [
       "[-3.6757694719960696, 9.417509333539119, -4.865777398680255]"
      ]
     },
     "execution_count": 8,
     "metadata": {},
     "output_type": "execute_result"
    }
   ],
   "source": [
    "mds_solved = solver.regress_mds(optimum[0])\n",
    "mds_solved"
   ]
  },
  {
   "cell_type": "code",
   "execution_count": 9,
   "metadata": {},
   "outputs": [
    {
     "data": {
      "text/plain": [
       "array([[-2.9, 12.199999999999974, -3.8200000000000056]], dtype=object)"
      ]
     },
     "execution_count": 9,
     "metadata": {},
     "output_type": "execute_result"
    }
   ],
   "source": [
    "target_mds"
   ]
  },
  {
   "cell_type": "code",
   "execution_count": 10,
   "metadata": {},
   "outputs": [
    {
     "data": {
      "text/plain": [
       "0.9556582332186184"
      ]
     },
     "execution_count": 10,
     "metadata": {},
     "output_type": "execute_result"
    }
   ],
   "source": [
    "relevance_score(mds_solved, target_mds, max_distance_1D=40, weights=[1/3, 1/3, 1/3])"
   ]
  },
  {
   "cell_type": "code",
   "execution_count": 11,
   "metadata": {},
   "outputs": [
    {
     "data": {
      "text/html": [
       "<div>\n",
       "<style scoped>\n",
       "    .dataframe tbody tr th:only-of-type {\n",
       "        vertical-align: middle;\n",
       "    }\n",
       "\n",
       "    .dataframe tbody tr th {\n",
       "        vertical-align: top;\n",
       "    }\n",
       "\n",
       "    .dataframe thead th {\n",
       "        text-align: right;\n",
       "    }\n",
       "</style>\n",
       "<table border=\"1\" class=\"dataframe\">\n",
       "  <thead>\n",
       "    <tr style=\"text-align: right;\">\n",
       "      <th></th>\n",
       "      <th># Features</th>\n",
       "      <th>Design Index</th>\n",
       "      <th>Battery Life</th>\n",
       "      <th>Display Size</th>\n",
       "      <th>Proc. Power</th>\n",
       "      <th>Rec. retail price</th>\n",
       "      <th>Base Cost</th>\n",
       "    </tr>\n",
       "    <tr>\n",
       "      <th>MARKET : Sonites</th>\n",
       "      <th></th>\n",
       "      <th></th>\n",
       "      <th></th>\n",
       "      <th></th>\n",
       "      <th></th>\n",
       "      <th></th>\n",
       "      <th></th>\n",
       "    </tr>\n",
       "  </thead>\n",
       "  <tbody>\n",
       "    <tr>\n",
       "      <th>MOVE</th>\n",
       "      <td>13</td>\n",
       "      <td>6</td>\n",
       "      <td>82</td>\n",
       "      <td>31</td>\n",
       "      <td>83</td>\n",
       "      <td>350</td>\n",
       "      <td>158</td>\n",
       "    </tr>\n",
       "  </tbody>\n",
       "</table>\n",
       "</div>"
      ],
      "text/plain": [
       "                  # Features  Design Index  Battery Life  Display Size  \\\n",
       "MARKET : Sonites                                                         \n",
       "MOVE                      13             6            82            31   \n",
       "\n",
       "                  Proc. Power  Rec. retail price  Base Cost  \n",
       "MARKET : Sonites                                             \n",
       "MOVE                       83                350        158  "
      ]
     },
     "execution_count": 11,
     "metadata": {},
     "output_type": "execute_result"
    }
   ],
   "source": [
    "son.move_features"
   ]
  }
 ],
 "metadata": {
  "kernelspec": {
   "display_name": "Python 3",
   "language": "python",
   "name": "python3"
  },
  "language_info": {
   "codemirror_mode": {
    "name": "ipython",
    "version": 3
   },
   "file_extension": ".py",
   "mimetype": "text/x-python",
   "name": "python",
   "nbconvert_exporter": "python",
   "pygments_lexer": "ipython3",
   "version": "3.11.1"
  }
 },
 "nbformat": 4,
 "nbformat_minor": 2
}
